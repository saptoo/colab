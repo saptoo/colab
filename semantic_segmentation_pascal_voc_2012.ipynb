{
  "cells": [
    {
      "cell_type": "code",
      "execution_count": null,
      "metadata": {
        "id": "aqnC0t6LmLQJ"
      },
      "outputs": [],
      "source": [
        "!nvidia-smi"
      ]
    },
    {
      "cell_type": "code",
      "execution_count": null,
      "metadata": {
        "id": "9wIZFYN6T07w",
        "colab": {
          "base_uri": "https://localhost:8080/"
        },
        "outputId": "c7e0f5b2-6e3a-4652-e235-c5b43d369f8a"
      },
      "outputs": [
        {
          "output_type": "stream",
          "name": "stdout",
          "text": [
            "--2023-06-26 16:22:07--  http://host.robots.ox.ac.uk/pascal/VOC/voc2012/VOCtrainval_11-May-2012.tar\n",
            "Resolving host.robots.ox.ac.uk (host.robots.ox.ac.uk)... 129.67.94.152\n",
            "Connecting to host.robots.ox.ac.uk (host.robots.ox.ac.uk)|129.67.94.152|:80... connected.\n",
            "HTTP request sent, awaiting response... 200 OK\n",
            "Length: 1999639040 (1.9G) [application/x-tar]\n",
            "Saving to: ‘VOCtrainval_11-May-2012.tar’\n",
            "\n",
            "VOCtrainval_11-May- 100%[===================>]   1.86G  21.0MB/s    in 95s     \n",
            "\n",
            "2023-06-26 16:23:42 (20.2 MB/s) - ‘VOCtrainval_11-May-2012.tar’ saved [1999639040/1999639040]\n",
            "\n"
          ]
        }
      ],
      "source": [
        "!wget http://host.robots.ox.ac.uk/pascal/VOC/voc2012/VOCtrainval_11-May-2012.tar"
      ]
    },
    {
      "cell_type": "code",
      "execution_count": null,
      "metadata": {
        "id": "huaepJB8d69m"
      },
      "outputs": [],
      "source": [
        "!tar -xvf  'VOCtrainval_11-May-2012.tar'"
      ]
    },
    {
      "cell_type": "code",
      "execution_count": null,
      "metadata": {
        "id": "U0HgVxEklYLh"
      },
      "outputs": [],
      "source": [
        "from matplotlib import pyplot as plt\n",
        "%matplotlib inline\n",
        "import os\n",
        "import torch\n",
        "import torchvision\n",
        "import numpy as np\n",
        "from tqdm import tqdm\n",
        "from collections import defaultdict\n",
        "import albumentations as A\n",
        "import cv2\n",
        "import pandas as pd"
      ]
    },
    {
      "cell_type": "code",
      "execution_count": null,
      "metadata": {
        "id": "NqL3LLqrDx1G"
      },
      "outputs": [],
      "source": [
        "def read_voc_images_names(voc_dir, is_train=True):\n",
        "    \"\"\"Read all VOC feature and label images.\"\"\"\n",
        "    txt_fname = os.path.join(voc_dir, 'ImageSets', 'Segmentation',\n",
        "                             'train.txt' if is_train else 'val.txt')\n",
        "    mode = torchvision.io.image.ImageReadMode.RGB\n",
        "    with open(txt_fname, 'r') as f:\n",
        "        images = f.read().split()\n",
        "    imgs_names, labels_names = [], []\n",
        "    for i, fname in enumerate(images):\n",
        "        imgs_names.append(os.path.join(voc_dir, 'JPEGImages', f'{fname}.jpg'))\n",
        "        labels_names.append(os.path.join(voc_dir, 'SegmentationClass' ,f'{fname}.png'))\n",
        "    return imgs_names, labels_names"
      ]
    },
    {
      "cell_type": "code",
      "execution_count": null,
      "metadata": {
        "id": "KF4yQg1qCrNU"
      },
      "outputs": [],
      "source": [
        "#imgs_names, labels_names = read_voc_images_names('VOCdevkit/VOC2012', True)\n",
        "#\n",
        "#\n",
        "#img = cv2.cvtColor(cv2.imread(imgs_names[0]), cv2.COLOR_BGR2RGB)\n",
        "#label = cv2.cvtColor(cv2.imread(labels_names[0]), cv2.COLOR_BGR2RGB)\n",
        "#\n",
        "#plt.figure()\n",
        "#plt.imshow(img)\n",
        "#plt.figure()\n",
        "#plt.imshow(label)\n",
        "#\n",
        "#\n",
        "#\n",
        "#alb = A.GaussNoise(p=1)\n",
        "#d = alb(image = img)\n",
        "#\n",
        "#plt.figure()\n",
        "#plt.imshow(d['image'])\n"
      ]
    },
    {
      "cell_type": "code",
      "execution_count": null,
      "metadata": {
        "id": "v-ozzZcJT1Ab"
      },
      "outputs": [],
      "source": [
        "VOC_COLORMAP = [[0, 0, 0], [128, 0, 0], [0, 128, 0], [128, 128, 0],\n",
        "                [0, 0, 128], [128, 0, 128], [0, 128, 128], [128, 128, 128],\n",
        "                [64, 0, 0], [192, 0, 0], [64, 128, 0], [192, 128, 0],\n",
        "                [64, 0, 128], [192, 0, 128], [64, 128, 128], [192, 128, 128],\n",
        "                [0, 64, 0], [128, 64, 0], [0, 192, 0], [128, 192, 0],\n",
        "                [0, 64, 128]]\n",
        "\n",
        "VOC_UNIQUE = { (((k[0]*256)+k[1])*256 + k[2]): i for (i, k) in enumerate(VOC_COLORMAP) }\n",
        "\n",
        "\n",
        "VOC_CLASSES = ['background', 'aeroplane', 'bicycle', 'bird', 'boat',\n",
        "               'bottle', 'bus', 'car', 'cat', 'chair', 'cow',\n",
        "               'diningtable', 'dog', 'horse', 'motorbike', 'person',\n",
        "               'potted plant', 'sheep', 'sofa', 'train', 'tv/monitor']\n",
        "\n",
        "num_classes = len(VOC_CLASSES)\n",
        "\n",
        "# pixel of edge - [224, 224, 192], code of this pixel - 14737600\n",
        "NUM_OF_EDGE = 14737600\n",
        "\n",
        "\n",
        "HEIGHT = 256\n",
        "WIDTH = 256\n",
        "\n",
        "train_transform = A.Compose([A.HueSaturationValue(),\n",
        "                             A.GaussNoise(),\n",
        "                             A.HorizontalFlip(),\n",
        "                             A.Rotate(limit = (-45, 45)),\n",
        "                             A.Resize(height=HEIGHT, width=WIDTH)])\n",
        "\n",
        "valid_transform = A.Compose([A.Resize(height=HEIGHT, width=WIDTH)])"
      ]
    },
    {
      "cell_type": "code",
      "execution_count": null,
      "metadata": {
        "id": "cwoW970I7ejF"
      },
      "outputs": [],
      "source": [
        "def RGB_label_to_mask(label):\n",
        "  h, w, _ = label.shape\n",
        "  label = label.astype(np.int64)\n",
        "\n",
        "  label = ((label[:, :, 0]*256) + label[:, :, 1])*256 + label[:, :, 2]\n",
        "\n",
        "\n",
        "  unique = np.unique(label)\n",
        "  mask = np.zeros((num_classes, h, w))\n",
        "\n",
        "  for code in unique:\n",
        "    if code == NUM_OF_EDGE:\n",
        "      continue\n",
        "    if code==0:\n",
        "      np.putmask(mask[0, :, :], np.logical_or(label==0, label==NUM_OF_EDGE), 1)  # edge = background\n",
        "    else:\n",
        "      np.putmask(mask[VOC_UNIQUE[code], :, :], (label==code), 1)\n",
        "\n",
        "  return mask"
      ]
    },
    {
      "cell_type": "code",
      "execution_count": null,
      "metadata": {
        "id": "Ryl3_FnrTn-c"
      },
      "outputs": [],
      "source": [
        "def aug(img, label, transform):\n",
        "    img = img\n",
        "    label = label\n",
        "    transformed = transform(image=img, mask=label)\n",
        "\n",
        "    img, label = transformed['image'], transformed['mask']\n",
        "\n",
        "    return img, label\n"
      ]
    },
    {
      "cell_type": "code",
      "execution_count": null,
      "metadata": {
        "id": "UBKo37Vb55QL"
      },
      "outputs": [],
      "source": [
        "from typing_extensions import Self\n",
        "class VOCSegDataset(torch.utils.data.Dataset):\n",
        "    \"\"\"A customized dataset to load the VOC dataset.\"\"\"\n",
        "\n",
        "    def __init__(self, is_train, voc_dir):\n",
        "\n",
        "        self.is_train = is_train\n",
        "\n",
        "\n",
        "        imgs_names, labels_names = read_voc_images_names(voc_dir, is_train=is_train)\n",
        "        self.imgs_names = imgs_names\n",
        "        self.labels_names = labels_names\n",
        "\n",
        "        self.transform = None\n",
        "        if is_train:\n",
        "          self.transform = train_transform\n",
        "        else:\n",
        "          self.transform = valid_transform\n",
        "\n",
        "        print('read ' + str(len(self.imgs_names)) + ' examples')\n",
        "\n",
        "    def __getitem__(self, idx):\n",
        "        img_name = self.imgs_names[idx]\n",
        "        label_name = self.labels_names[idx]\n",
        "\n",
        "        img = cv2.cvtColor(cv2.imread(img_name), cv2.COLOR_BGR2RGB)\n",
        "        label = cv2.cvtColor(cv2.imread(label_name), cv2.COLOR_BGR2RGB)\n",
        "\n",
        "        img, label = aug(img, label, self.transform)\n",
        "\n",
        "        img = img.astype(float)\n",
        "        label = label.astype(float)\n",
        "        img /= 255\n",
        "\n",
        "        return (torch.tensor(img, dtype=torch.float64).permute(2, 0, 1), torch.tensor(RGB_label_to_mask(label)))\n",
        "\n",
        "    def __len__(self):\n",
        "        return len(self.imgs_names)\n",
        "\n"
      ]
    },
    {
      "cell_type": "code",
      "execution_count": null,
      "metadata": {
        "id": "UOjL7vDq4GDd"
      },
      "outputs": [],
      "source": [
        "#[bs, num, h, w]"
      ]
    },
    {
      "cell_type": "code",
      "execution_count": null,
      "metadata": {
        "id": "f_xJ2gyP55U5",
        "colab": {
          "base_uri": "https://localhost:8080/"
        },
        "outputId": "84c04d9d-4a98-4a1d-8a13-e2b637c92b0a"
      },
      "outputs": [
        {
          "output_type": "stream",
          "name": "stdout",
          "text": [
            "read 1464 examples\n",
            "read 1449 examples\n"
          ]
        }
      ],
      "source": [
        "crop_size = (256, 256)\n",
        "voc_train = VOCSegDataset(True, 'VOCdevkit/VOC2012')\n",
        "voc_test = VOCSegDataset(False, 'VOCdevkit/VOC2012')"
      ]
    },
    {
      "cell_type": "code",
      "execution_count": null,
      "metadata": {
        "id": "cUJ5A2VYeVmf"
      },
      "outputs": [],
      "source": []
    },
    {
      "cell_type": "code",
      "execution_count": null,
      "metadata": {
        "id": "GChZWGp1eVps"
      },
      "outputs": [],
      "source": []
    },
    {
      "cell_type": "code",
      "execution_count": null,
      "metadata": {
        "id": "W2DNzxN855fM"
      },
      "outputs": [],
      "source": [
        "batch_size = 12\n",
        "train_loader = torch.utils.data.DataLoader(voc_train, batch_size, shuffle=True, drop_last=True, num_workers=2)\n",
        "val_loader = torch.utils.data.DataLoader(voc_test, batch_size, shuffle=False, drop_last=True, num_workers=2)"
      ]
    },
    {
      "cell_type": "code",
      "execution_count": null,
      "metadata": {
        "id": "kQDIy93zZl31",
        "colab": {
          "base_uri": "https://localhost:8080/"
        },
        "outputId": "c47dec31-3270-4661-dede-5352dc2ae3e6"
      },
      "outputs": [
        {
          "output_type": "stream",
          "name": "stdout",
          "text": [
            "torch.Size([12, 3, 256, 256])\n",
            "torch.Size([12, 21, 256, 256])\n"
          ]
        }
      ],
      "source": [
        "for X, Y in train_loader:\n",
        "  print(X.shape)\n",
        "  print(Y.shape)\n",
        "  break\n"
      ]
    },
    {
      "cell_type": "code",
      "execution_count": null,
      "metadata": {
        "id": "D6LW41mlJEKl"
      },
      "outputs": [],
      "source": []
    },
    {
      "cell_type": "code",
      "execution_count": null,
      "metadata": {
        "id": "tR40QywZ4nl4",
        "colab": {
          "base_uri": "https://localhost:8080/"
        },
        "outputId": "3b429042-e0bb-4d0a-bba4-5f7c99c2ee3b"
      },
      "outputs": [
        {
          "output_type": "stream",
          "name": "stdout",
          "text": [
            "Mounted at content\n"
          ]
        }
      ],
      "source": [
        "from google.colab import drive\n",
        "drive.mount('content')"
      ]
    },
    {
      "cell_type": "code",
      "execution_count": null,
      "metadata": {
        "id": "sOpyJeFGmqTv",
        "colab": {
          "base_uri": "https://localhost:8080/"
        },
        "outputId": "0ad66012-548e-4eb2-a465-c8cf115cb5b9"
      },
      "outputs": [
        {
          "output_type": "stream",
          "name": "stdout",
          "text": [
            "Looking in indexes: https://pypi.org/simple, https://us-python.pkg.dev/colab-wheels/public/simple/\n",
            "Collecting git+https://github.com/qubvel/segmentation_models.pytorch\n",
            "  Cloning https://github.com/qubvel/segmentation_models.pytorch to /tmp/pip-req-build-b6i6g0gu\n",
            "  Running command git clone --filter=blob:none --quiet https://github.com/qubvel/segmentation_models.pytorch /tmp/pip-req-build-b6i6g0gu\n",
            "  Resolved https://github.com/qubvel/segmentation_models.pytorch to commit e5d3db20e9c2ddb76f88642409e527239943c983\n",
            "  Installing build dependencies ... \u001b[?25l\u001b[?25hdone\n",
            "  Getting requirements to build wheel ... \u001b[?25l\u001b[?25hdone\n",
            "  Preparing metadata (pyproject.toml) ... \u001b[?25l\u001b[?25hdone\n",
            "Requirement already satisfied: torchvision>=0.5.0 in /usr/local/lib/python3.10/dist-packages (from segmentation-models-pytorch==0.3.3) (0.15.2+cu118)\n",
            "Collecting pretrainedmodels==0.7.4 (from segmentation-models-pytorch==0.3.3)\n",
            "  Downloading pretrainedmodels-0.7.4.tar.gz (58 kB)\n",
            "\u001b[2K     \u001b[90m━━━━━━━━━━━━━━━━━━━━━━━━━━━━━━━━━━━━━━━━\u001b[0m \u001b[32m58.8/58.8 kB\u001b[0m \u001b[31m3.6 MB/s\u001b[0m eta \u001b[36m0:00:00\u001b[0m\n",
            "\u001b[?25h  Preparing metadata (setup.py) ... \u001b[?25l\u001b[?25hdone\n",
            "Collecting efficientnet-pytorch==0.7.1 (from segmentation-models-pytorch==0.3.3)\n",
            "  Downloading efficientnet_pytorch-0.7.1.tar.gz (21 kB)\n",
            "  Preparing metadata (setup.py) ... \u001b[?25l\u001b[?25hdone\n",
            "Collecting timm==0.9.2 (from segmentation-models-pytorch==0.3.3)\n",
            "  Downloading timm-0.9.2-py3-none-any.whl (2.2 MB)\n",
            "\u001b[2K     \u001b[90m━━━━━━━━━━━━━━━━━━━━━━━━━━━━━━━━━━━━━━━━\u001b[0m \u001b[32m2.2/2.2 MB\u001b[0m \u001b[31m41.0 MB/s\u001b[0m eta \u001b[36m0:00:00\u001b[0m\n",
            "\u001b[?25hRequirement already satisfied: tqdm in /usr/local/lib/python3.10/dist-packages (from segmentation-models-pytorch==0.3.3) (4.65.0)\n",
            "Requirement already satisfied: pillow in /usr/local/lib/python3.10/dist-packages (from segmentation-models-pytorch==0.3.3) (8.4.0)\n",
            "Requirement already satisfied: torch in /usr/local/lib/python3.10/dist-packages (from efficientnet-pytorch==0.7.1->segmentation-models-pytorch==0.3.3) (2.0.1+cu118)\n",
            "Collecting munch (from pretrainedmodels==0.7.4->segmentation-models-pytorch==0.3.3)\n",
            "  Downloading munch-3.0.0-py2.py3-none-any.whl (10 kB)\n",
            "Requirement already satisfied: pyyaml in /usr/local/lib/python3.10/dist-packages (from timm==0.9.2->segmentation-models-pytorch==0.3.3) (6.0)\n",
            "Collecting huggingface-hub (from timm==0.9.2->segmentation-models-pytorch==0.3.3)\n",
            "  Downloading huggingface_hub-0.15.1-py3-none-any.whl (236 kB)\n",
            "\u001b[2K     \u001b[90m━━━━━━━━━━━━━━━━━━━━━━━━━━━━━━━━━━━━━━\u001b[0m \u001b[32m236.8/236.8 kB\u001b[0m \u001b[31m24.0 MB/s\u001b[0m eta \u001b[36m0:00:00\u001b[0m\n",
            "\u001b[?25hCollecting safetensors (from timm==0.9.2->segmentation-models-pytorch==0.3.3)\n",
            "  Downloading safetensors-0.3.1-cp310-cp310-manylinux_2_17_x86_64.manylinux2014_x86_64.whl (1.3 MB)\n",
            "\u001b[2K     \u001b[90m━━━━━━━━━━━━━━━━━━━━━━━━━━━━━━━━━━━━━━━━\u001b[0m \u001b[32m1.3/1.3 MB\u001b[0m \u001b[31m49.1 MB/s\u001b[0m eta \u001b[36m0:00:00\u001b[0m\n",
            "\u001b[?25hRequirement already satisfied: numpy in /usr/local/lib/python3.10/dist-packages (from torchvision>=0.5.0->segmentation-models-pytorch==0.3.3) (1.22.4)\n",
            "Requirement already satisfied: requests in /usr/local/lib/python3.10/dist-packages (from torchvision>=0.5.0->segmentation-models-pytorch==0.3.3) (2.27.1)\n",
            "Requirement already satisfied: filelock in /usr/local/lib/python3.10/dist-packages (from torch->efficientnet-pytorch==0.7.1->segmentation-models-pytorch==0.3.3) (3.12.2)\n",
            "Requirement already satisfied: typing-extensions in /usr/local/lib/python3.10/dist-packages (from torch->efficientnet-pytorch==0.7.1->segmentation-models-pytorch==0.3.3) (4.6.3)\n",
            "Requirement already satisfied: sympy in /usr/local/lib/python3.10/dist-packages (from torch->efficientnet-pytorch==0.7.1->segmentation-models-pytorch==0.3.3) (1.11.1)\n",
            "Requirement already satisfied: networkx in /usr/local/lib/python3.10/dist-packages (from torch->efficientnet-pytorch==0.7.1->segmentation-models-pytorch==0.3.3) (3.1)\n",
            "Requirement already satisfied: jinja2 in /usr/local/lib/python3.10/dist-packages (from torch->efficientnet-pytorch==0.7.1->segmentation-models-pytorch==0.3.3) (3.1.2)\n",
            "Requirement already satisfied: triton==2.0.0 in /usr/local/lib/python3.10/dist-packages (from torch->efficientnet-pytorch==0.7.1->segmentation-models-pytorch==0.3.3) (2.0.0)\n",
            "Requirement already satisfied: cmake in /usr/local/lib/python3.10/dist-packages (from triton==2.0.0->torch->efficientnet-pytorch==0.7.1->segmentation-models-pytorch==0.3.3) (3.25.2)\n",
            "Requirement already satisfied: lit in /usr/local/lib/python3.10/dist-packages (from triton==2.0.0->torch->efficientnet-pytorch==0.7.1->segmentation-models-pytorch==0.3.3) (16.0.6)\n",
            "Requirement already satisfied: fsspec in /usr/local/lib/python3.10/dist-packages (from huggingface-hub->timm==0.9.2->segmentation-models-pytorch==0.3.3) (2023.6.0)\n",
            "Requirement already satisfied: packaging>=20.9 in /usr/local/lib/python3.10/dist-packages (from huggingface-hub->timm==0.9.2->segmentation-models-pytorch==0.3.3) (23.1)\n",
            "Requirement already satisfied: six in /usr/local/lib/python3.10/dist-packages (from munch->pretrainedmodels==0.7.4->segmentation-models-pytorch==0.3.3) (1.16.0)\n",
            "Requirement already satisfied: urllib3<1.27,>=1.21.1 in /usr/local/lib/python3.10/dist-packages (from requests->torchvision>=0.5.0->segmentation-models-pytorch==0.3.3) (1.26.16)\n",
            "Requirement already satisfied: certifi>=2017.4.17 in /usr/local/lib/python3.10/dist-packages (from requests->torchvision>=0.5.0->segmentation-models-pytorch==0.3.3) (2023.5.7)\n",
            "Requirement already satisfied: charset-normalizer~=2.0.0 in /usr/local/lib/python3.10/dist-packages (from requests->torchvision>=0.5.0->segmentation-models-pytorch==0.3.3) (2.0.12)\n",
            "Requirement already satisfied: idna<4,>=2.5 in /usr/local/lib/python3.10/dist-packages (from requests->torchvision>=0.5.0->segmentation-models-pytorch==0.3.3) (3.4)\n",
            "Requirement already satisfied: MarkupSafe>=2.0 in /usr/local/lib/python3.10/dist-packages (from jinja2->torch->efficientnet-pytorch==0.7.1->segmentation-models-pytorch==0.3.3) (2.1.3)\n",
            "Requirement already satisfied: mpmath>=0.19 in /usr/local/lib/python3.10/dist-packages (from sympy->torch->efficientnet-pytorch==0.7.1->segmentation-models-pytorch==0.3.3) (1.3.0)\n",
            "Building wheels for collected packages: segmentation-models-pytorch, efficientnet-pytorch, pretrainedmodels\n",
            "  Building wheel for segmentation-models-pytorch (pyproject.toml) ... \u001b[?25l\u001b[?25hdone\n",
            "  Created wheel for segmentation-models-pytorch: filename=segmentation_models_pytorch-0.3.3-py3-none-any.whl size=106725 sha256=df4306c771b4139c88c5ce0194d8f787c19403956365334c10030fe85f6df794\n",
            "  Stored in directory: /tmp/pip-ephem-wheel-cache-drfihcid/wheels/1a/49/5f/858bc2741660e381e83f1d8b297edc4d9f0561f29becaee577\n",
            "  Building wheel for efficientnet-pytorch (setup.py) ... \u001b[?25l\u001b[?25hdone\n",
            "  Created wheel for efficientnet-pytorch: filename=efficientnet_pytorch-0.7.1-py3-none-any.whl size=16427 sha256=cd801aaefd0ad394eaa33f59eb603efb0a1757e580d334141937932b2e50ec86\n",
            "  Stored in directory: /root/.cache/pip/wheels/03/3f/e9/911b1bc46869644912bda90a56bcf7b960f20b5187feea3baf\n",
            "  Building wheel for pretrainedmodels (setup.py) ... \u001b[?25l\u001b[?25hdone\n",
            "  Created wheel for pretrainedmodels: filename=pretrainedmodels-0.7.4-py3-none-any.whl size=60945 sha256=fdb47af593a43061f1361054008f73a39b395ea24171d07994c13349cfffd036\n",
            "  Stored in directory: /root/.cache/pip/wheels/35/cb/a5/8f534c60142835bfc889f9a482e4a67e0b817032d9c6883b64\n",
            "Successfully built segmentation-models-pytorch efficientnet-pytorch pretrainedmodels\n",
            "Installing collected packages: safetensors, munch, huggingface-hub, timm, pretrainedmodels, efficientnet-pytorch, segmentation-models-pytorch\n",
            "Successfully installed efficientnet-pytorch-0.7.1 huggingface-hub-0.15.1 munch-3.0.0 pretrainedmodels-0.7.4 safetensors-0.3.1 segmentation-models-pytorch-0.3.3 timm-0.9.2\n"
          ]
        }
      ],
      "source": [
        "!pip install -U git+https://github.com/qubvel/segmentation_models.pytorch\n",
        "\n",
        "import segmentation_models_pytorch as smp"
      ]
    },
    {
      "cell_type": "code",
      "source": [
        "!pip install --force-reinstall git+https://github.com/qubvel/segmentation_models.pytorch==0.2.1"
      ],
      "metadata": {
        "id": "L8Fs6zzdn9H3"
      },
      "execution_count": null,
      "outputs": []
    },
    {
      "cell_type": "code",
      "execution_count": null,
      "metadata": {
        "id": "KaiVi6lfnLHp"
      },
      "outputs": [],
      "source": [
        "device = torch.device(\"cuda:0\")"
      ]
    },
    {
      "cell_type": "code",
      "execution_count": null,
      "metadata": {
        "id": "Fy2U2ufe1M3h",
        "colab": {
          "base_uri": "https://localhost:8080/"
        },
        "outputId": "4c1a8511-3350-4c3e-91e0-21ac39d0c29b"
      },
      "outputs": [
        {
          "output_type": "stream",
          "name": "stderr",
          "text": [
            "Downloading: \"https://github.com/lukemelas/EfficientNet-PyTorch/releases/download/1.0/efficientnet-b0-355c32eb.pth\" to /root/.cache/torch/hub/checkpoints/efficientnet-b0-355c32eb.pth\n",
            "100%|██████████| 20.4M/20.4M [00:00<00:00, 82.3MB/s]\n"
          ]
        }
      ],
      "source": [
        "model = smp.FPN(encoder_name = 'efficientnet-b0', classes = num_classes, activation = 'softmax')"
      ]
    },
    {
      "cell_type": "code",
      "execution_count": null,
      "metadata": {
        "colab": {
          "base_uri": "https://localhost:8080/"
        },
        "id": "52-ZxEwPnM1w",
        "outputId": "dc86e2ea-87fd-45d5-c02a-3707dbade41c"
      },
      "outputs": [
        {
          "output_type": "execute_result",
          "data": {
            "text/plain": [
              "<All keys matched successfully>"
            ]
          },
          "metadata": {},
          "execution_count": 17
        }
      ],
      "source": [
        "model.load_state_dict(torch.load('/content/content/MyDrive/FPN_3_DL+CE_9.pth', map_location=torch.device('cpu')))"
      ]
    },
    {
      "cell_type": "code",
      "execution_count": null,
      "metadata": {
        "id": "Fc3AawoXlTJ6"
      },
      "outputs": [],
      "source": [
        "for param in model.parameters():\n",
        "    param.requires_grad = True"
      ]
    },
    {
      "cell_type": "code",
      "execution_count": null,
      "metadata": {
        "id": "j2UEqUAPLMJv"
      },
      "outputs": [],
      "source": [
        "class IoU(torch.nn.Module):\n",
        "    __name__=\"IoU\"\n",
        "    def __init__(self, mode='MULTILABEL_MODE', threshold=0.4):\n",
        "        assert mode in ['MULTILABEL_MODE']\n",
        "        super(IoU, self).__init__()\n",
        "        self.mode = mode\n",
        "        self.threshold = threshold\n",
        "\n",
        "\n",
        "    def forward(self, X: torch.Tensor, Y: torch.Tensor) -> torch.Tensor:\n",
        "        '''\n",
        "        Args:\n",
        "            X - model prediction, (batch_size, num_classes, height, width)\n",
        "            Y - label, (batch_size, num_classes, height, width)\n",
        "        '''\n",
        "        batch_size, num_classes, height, width = X.shape\n",
        "\n",
        "        X = torch.where(X >= self.threshold, 1, 0)\n",
        "\n",
        "        X = X.view(batch_size, num_classes, -1)\n",
        "        Y = Y.view(batch_size, num_classes, -1)\n",
        "\n",
        "        tp = (X * Y).sum(2)\n",
        "        fp = X.sum(2) - tp\n",
        "        fn = Y.sum(2) - tp\n",
        "        tn = torch.tensor(height*width) - (tp + fp + fn)\n",
        "\n",
        "        return torch.nanmean(tp / (tp+fp+fn), axis=0)"
      ]
    },
    {
      "cell_type": "code",
      "execution_count": null,
      "metadata": {
        "id": "1DiE8AnggcXZ"
      },
      "outputs": [],
      "source": [
        "iou = IoU()"
      ]
    },
    {
      "cell_type": "code",
      "execution_count": null,
      "metadata": {
        "id": "YS2QD8AW0qZK"
      },
      "outputs": [],
      "source": [
        "def train_model(model, train_loader, loss1, loss2, optimizer, scheduler, num_epochs):\n",
        "    df = pd.DataFrame([], columns=['lr', 'loss', 'ave_iou'] + VOC_CLASSES)\n",
        "    loss_history = []\n",
        "    iou_history = defaultdict(list)\n",
        "\n",
        "    counter_to_stop = 0\n",
        "    best_iou = 0.\n",
        "\n",
        "    for epoch in range(num_epochs):\n",
        "        model.train()\n",
        "\n",
        "        loss_accum = 0\n",
        "        ave_iou_per_ep = defaultdict(list)\n",
        "\n",
        "        for (x, y) in tqdm(train_loader):\n",
        "\n",
        "            optimizer.zero_grad()\n",
        "\n",
        "            x_gpu = x.float().to(device)\n",
        "            y_gpu = y.float().to(device)\n",
        "            prediction = model(x_gpu)\n",
        "            loss_value1 = loss1(prediction, y_gpu)\n",
        "            loss_value2 = loss2(prediction, y_gpu)\n",
        "            loss = 0.6*loss_value1 + 0.4*loss_value2\n",
        "\n",
        "            for (key, score) in zip(VOC_CLASSES, iou(prediction, y_gpu)):\n",
        "                ave_iou_per_ep[key].append(score)\n",
        "\n",
        "            loss.backward()\n",
        "            optimizer.step()\n",
        "\n",
        "            loss_accum += loss\n",
        "\n",
        "\n",
        "        new_df_row = []\n",
        "        for param_group in optimizer.param_groups:\n",
        "            new_df_row.append(param_group['lr'])\n",
        "\n",
        "        ave_loss = (loss_accum / len(train_loader)).item()\n",
        "\n",
        "        new_df_row.append(ave_loss)\n",
        "\n",
        "        ave_iou = 0\n",
        "        ave_iou_per_class = []\n",
        "        for key in ave_iou_per_ep:\n",
        "          tmp = torch.nanmean(torch.tensor(ave_iou_per_ep[key], dtype=float)).item()\n",
        "          ave_iou_per_class.append(tmp)\n",
        "\n",
        "          ave_iou += tmp\n",
        "          iou_history[key].append(tmp)\n",
        "        ave_iou /= num_classes\n",
        "\n",
        "        new_df_row.append(ave_iou)\n",
        "        new_df_row += ave_iou_per_class\n",
        "        df.loc[len(df.index)] = new_df_row\n",
        "\n",
        "        df.to_csv(\"/content/content/MyDrive/df_CAWR.csv\", index=False)\n",
        "\n",
        "        torch.save(model.state_dict(), \"/content/content/MyDrive/Last_CAWR.pth\")\n",
        "        if ave_iou > best_iou:\n",
        "          best_iou = ave_iou\n",
        "          counter_to_stop = 0\n",
        "          torch.save(model.state_dict(), \"/content/content/MyDrive/Best_CAWR.pth\")\n",
        "        else:\n",
        "          counter_to_stop += 1\n",
        "          if counter_to_stop == 10:\n",
        "            return loss_history, iou_history, df\n",
        "\n",
        "        if scheduler is not None:\n",
        "          scheduler.step()\n",
        "\n",
        "        loss_history.append(float(ave_loss))\n",
        "\n",
        "        print(\"Epoh: \" + str(epoch))\n",
        "        print(\"lr: \" + str(new_df_row[0]))\n",
        "        print(\"Average loss: %f\" % (ave_loss))\n",
        "        print(\"Average iou: %f\" % (ave_iou))\n",
        "        print()\n",
        "\n",
        "    #print(\"Average IoU of all epochs:\", ave_iou)\n",
        "    return loss_history, iou_history, df"
      ]
    },
    {
      "cell_type": "code",
      "execution_count": null,
      "metadata": {
        "id": "CU1j5H8QLi8J",
        "colab": {
          "base_uri": "https://localhost:8080/",
          "height": 1000
        },
        "outputId": "717f004a-f3b2-46a6-dea7-19de60bf93c2"
      },
      "outputs": [
        {
          "output_type": "stream",
          "name": "stderr",
          "text": [
            "\r  0%|          | 0/122 [00:00<?, ?it/s]/usr/local/lib/python3.9/dist-packages/segmentation_models_pytorch/base/modules.py:116: UserWarning: Implicit dimension choice for softmax has been deprecated. Change the call to include dim=X as an argument.\n",
            "  return self.activation(x)\n",
            "100%|██████████| 122/122 [01:04<00:00,  1.89it/s]\n"
          ]
        },
        {
          "output_type": "stream",
          "name": "stdout",
          "text": [
            "Epoh: 0\n",
            "lr: 0.0006250000000000001\n",
            "Average loss: 1.266395\n",
            "Average iou: 0.039118\n",
            "\n"
          ]
        },
        {
          "output_type": "stream",
          "name": "stderr",
          "text": [
            "100%|██████████| 122/122 [01:06<00:00,  1.85it/s]\n"
          ]
        },
        {
          "output_type": "stream",
          "name": "stdout",
          "text": [
            "Epoh: 1\n",
            "lr: 0.000611234645208012\n",
            "Average loss: 1.225680\n",
            "Average iou: 0.068731\n",
            "\n"
          ]
        },
        {
          "output_type": "stream",
          "name": "stderr",
          "text": [
            "  0%|          | 0/122 [00:00<?, ?it/s]/usr/local/lib/python3.9/dist-packages/segmentation_models_pytorch/base/modules.py:116: UserWarning: Implicit dimension choice for softmax has been deprecated. Change the call to include dim=X as an argument.\n",
            "  return self.activation(x)\n",
            "100%|██████████| 122/122 [01:02<00:00,  1.94it/s]\n"
          ]
        },
        {
          "output_type": "stream",
          "name": "stdout",
          "text": [
            "Epoh: 2\n",
            "lr: 0.0005712860296679541\n",
            "Average loss: 1.205825\n",
            "Average iou: 0.083236\n",
            "\n"
          ]
        },
        {
          "output_type": "stream",
          "name": "stderr",
          "text": [
            "  0%|          | 0/122 [00:00<?, ?it/s]/usr/local/lib/python3.9/dist-packages/segmentation_models_pytorch/base/modules.py:116: UserWarning: Implicit dimension choice for softmax has been deprecated. Change the call to include dim=X as an argument.\n",
            "  return self.activation(x)\n",
            "100%|██████████| 122/122 [01:02<00:00,  1.96it/s]\n"
          ]
        },
        {
          "output_type": "stream",
          "name": "stdout",
          "text": [
            "Epoh: 3\n",
            "lr: 0.0005090646022072581\n",
            "Average loss: 1.186089\n",
            "Average iou: 0.097184\n",
            "\n"
          ]
        },
        {
          "output_type": "stream",
          "name": "stderr",
          "text": [
            "\r  0%|          | 0/122 [00:00<?, ?it/s]/usr/local/lib/python3.9/dist-packages/segmentation_models_pytorch/base/modules.py:116: UserWarning: Implicit dimension choice for softmax has been deprecated. Change the call to include dim=X as an argument.\n",
            "  return self.activation(x)\n",
            "100%|██████████| 122/122 [01:06<00:00,  1.82it/s]\n"
          ]
        },
        {
          "output_type": "stream",
          "name": "stdout",
          "text": [
            "Epoh: 4\n",
            "lr: 0.000430661029667954\n",
            "Average loss: 1.186375\n",
            "Average iou: 0.102009\n",
            "\n"
          ]
        },
        {
          "output_type": "stream",
          "name": "stderr",
          "text": [
            "  0%|          | 0/122 [00:00<?, ?it/s]/usr/local/lib/python3.9/dist-packages/segmentation_models_pytorch/base/modules.py:116: UserWarning: Implicit dimension choice for softmax has been deprecated. Change the call to include dim=X as an argument.\n",
            "  return self.activation(x)\n",
            "100%|██████████| 122/122 [01:02<00:00,  1.95it/s]\n"
          ]
        },
        {
          "output_type": "stream",
          "name": "stdout",
          "text": [
            "Epoh: 5\n",
            "lr: 0.00034375000000000003\n",
            "Average loss: 1.180391\n",
            "Average iou: 0.114276\n",
            "\n"
          ]
        },
        {
          "output_type": "stream",
          "name": "stderr",
          "text": [
            "  0%|          | 0/122 [00:00<?, ?it/s]/usr/local/lib/python3.9/dist-packages/segmentation_models_pytorch/base/modules.py:116: UserWarning: Implicit dimension choice for softmax has been deprecated. Change the call to include dim=X as an argument.\n",
            "  return self.activation(x)\n",
            "100%|██████████| 122/122 [01:03<00:00,  1.91it/s]\n"
          ]
        },
        {
          "output_type": "stream",
          "name": "stdout",
          "text": [
            "Epoh: 6\n",
            "lr: 0.00025683897033204606\n",
            "Average loss: 1.174265\n",
            "Average iou: 0.127249\n",
            "\n"
          ]
        },
        {
          "output_type": "stream",
          "name": "stderr",
          "text": [
            "\r  0%|          | 0/122 [00:00<?, ?it/s]/usr/local/lib/python3.9/dist-packages/segmentation_models_pytorch/base/modules.py:116: UserWarning: Implicit dimension choice for softmax has been deprecated. Change the call to include dim=X as an argument.\n",
            "  return self.activation(x)\n",
            "100%|██████████| 122/122 [01:03<00:00,  1.92it/s]\n"
          ]
        },
        {
          "output_type": "stream",
          "name": "stdout",
          "text": [
            "Epoh: 7\n",
            "lr: 0.00017843539779274198\n",
            "Average loss: 1.170594\n",
            "Average iou: 0.134733\n",
            "\n"
          ]
        },
        {
          "output_type": "stream",
          "name": "stderr",
          "text": [
            "\r  0%|          | 0/122 [00:00<?, ?it/s]/usr/local/lib/python3.9/dist-packages/segmentation_models_pytorch/base/modules.py:116: UserWarning: Implicit dimension choice for softmax has been deprecated. Change the call to include dim=X as an argument.\n",
            "  return self.activation(x)\n",
            "100%|██████████| 122/122 [01:03<00:00,  1.91it/s]\n"
          ]
        },
        {
          "output_type": "stream",
          "name": "stdout",
          "text": [
            "Epoh: 8\n",
            "lr: 0.00011621397033204607\n",
            "Average loss: 1.168836\n",
            "Average iou: 0.132626\n",
            "\n"
          ]
        },
        {
          "output_type": "stream",
          "name": "stderr",
          "text": [
            "  0%|          | 0/122 [00:00<?, ?it/s]/usr/local/lib/python3.9/dist-packages/segmentation_models_pytorch/base/modules.py:116: UserWarning: Implicit dimension choice for softmax has been deprecated. Change the call to include dim=X as an argument.\n",
            "  return self.activation(x)\n",
            "100%|██████████| 122/122 [01:04<00:00,  1.89it/s]\n"
          ]
        },
        {
          "output_type": "stream",
          "name": "stdout",
          "text": [
            "Epoh: 9\n",
            "lr: 7.626535479198807e-05\n",
            "Average loss: 1.163811\n",
            "Average iou: 0.140413\n",
            "\n"
          ]
        },
        {
          "output_type": "stream",
          "name": "stderr",
          "text": [
            "  0%|          | 0/122 [00:00<?, ?it/s]/usr/local/lib/python3.9/dist-packages/segmentation_models_pytorch/base/modules.py:116: UserWarning: Implicit dimension choice for softmax has been deprecated. Change the call to include dim=X as an argument.\n",
            "  return self.activation(x)\n",
            "100%|██████████| 122/122 [01:02<00:00,  1.96it/s]\n"
          ]
        },
        {
          "output_type": "stream",
          "name": "stdout",
          "text": [
            "Epoh: 10\n",
            "lr: 0.0006250000000000001\n",
            "Average loss: 1.177884\n",
            "Average iou: 0.119496\n",
            "\n"
          ]
        },
        {
          "output_type": "stream",
          "name": "stderr",
          "text": [
            "  0%|          | 0/122 [00:00<?, ?it/s]/usr/local/lib/python3.9/dist-packages/segmentation_models_pytorch/base/modules.py:116: UserWarning: Implicit dimension choice for softmax has been deprecated. Change the call to include dim=X as an argument.\n",
            "  return self.activation(x)\n",
            "100%|██████████| 122/122 [01:02<00:00,  1.94it/s]\n"
          ]
        },
        {
          "output_type": "stream",
          "name": "stdout",
          "text": [
            "Epoh: 11\n",
            "lr: 0.000611234645208012\n",
            "Average loss: 1.176991\n",
            "Average iou: 0.130563\n",
            "\n"
          ]
        },
        {
          "output_type": "stream",
          "name": "stderr",
          "text": [
            "  0%|          | 0/122 [00:00<?, ?it/s]/usr/local/lib/python3.9/dist-packages/segmentation_models_pytorch/base/modules.py:116: UserWarning: Implicit dimension choice for softmax has been deprecated. Change the call to include dim=X as an argument.\n",
            "  return self.activation(x)\n",
            "100%|██████████| 122/122 [01:05<00:00,  1.86it/s]\n"
          ]
        },
        {
          "output_type": "stream",
          "name": "stdout",
          "text": [
            "Epoh: 12\n",
            "lr: 0.0005712860296679541\n",
            "Average loss: 1.173486\n",
            "Average iou: 0.130821\n",
            "\n"
          ]
        },
        {
          "output_type": "stream",
          "name": "stderr",
          "text": [
            "  0%|          | 0/122 [00:00<?, ?it/s]/usr/local/lib/python3.9/dist-packages/segmentation_models_pytorch/base/modules.py:116: UserWarning: Implicit dimension choice for softmax has been deprecated. Change the call to include dim=X as an argument.\n",
            "  return self.activation(x)\n",
            "100%|██████████| 122/122 [01:03<00:00,  1.93it/s]\n"
          ]
        },
        {
          "output_type": "stream",
          "name": "stdout",
          "text": [
            "Epoh: 13\n",
            "lr: 0.0005090646022072581\n",
            "Average loss: 1.168589\n",
            "Average iou: 0.141532\n",
            "\n"
          ]
        },
        {
          "output_type": "stream",
          "name": "stderr",
          "text": [
            "  0%|          | 0/122 [00:00<?, ?it/s]/usr/local/lib/python3.9/dist-packages/segmentation_models_pytorch/base/modules.py:116: UserWarning: Implicit dimension choice for softmax has been deprecated. Change the call to include dim=X as an argument.\n",
            "  return self.activation(x)\n",
            "100%|██████████| 122/122 [01:02<00:00,  1.96it/s]\n"
          ]
        },
        {
          "output_type": "stream",
          "name": "stdout",
          "text": [
            "Epoh: 14\n",
            "lr: 0.000430661029667954\n",
            "Average loss: 1.162161\n",
            "Average iou: 0.145770\n",
            "\n"
          ]
        },
        {
          "output_type": "stream",
          "name": "stderr",
          "text": [
            "  0%|          | 0/122 [00:00<?, ?it/s]/usr/local/lib/python3.9/dist-packages/segmentation_models_pytorch/base/modules.py:116: UserWarning: Implicit dimension choice for softmax has been deprecated. Change the call to include dim=X as an argument.\n",
            "  return self.activation(x)\n",
            "100%|██████████| 122/122 [01:04<00:00,  1.90it/s]\n"
          ]
        },
        {
          "output_type": "stream",
          "name": "stdout",
          "text": [
            "Epoh: 15\n",
            "lr: 0.00034375000000000003\n",
            "Average loss: 1.144376\n",
            "Average iou: 0.159733\n",
            "\n"
          ]
        },
        {
          "output_type": "stream",
          "name": "stderr",
          "text": [
            "  0%|          | 0/122 [00:00<?, ?it/s]/usr/local/lib/python3.9/dist-packages/segmentation_models_pytorch/base/modules.py:116: UserWarning: Implicit dimension choice for softmax has been deprecated. Change the call to include dim=X as an argument.\n",
            "  return self.activation(x)\n",
            "100%|██████████| 122/122 [01:02<00:00,  1.96it/s]\n"
          ]
        },
        {
          "output_type": "stream",
          "name": "stdout",
          "text": [
            "Epoh: 16\n",
            "lr: 0.00025683897033204606\n",
            "Average loss: 1.139873\n",
            "Average iou: 0.166859\n",
            "\n"
          ]
        },
        {
          "output_type": "stream",
          "name": "stderr",
          "text": [
            "\r  0%|          | 0/122 [00:00<?, ?it/s]/usr/local/lib/python3.9/dist-packages/segmentation_models_pytorch/base/modules.py:116: UserWarning: Implicit dimension choice for softmax has been deprecated. Change the call to include dim=X as an argument.\n",
            "  return self.activation(x)\n",
            "100%|██████████| 122/122 [01:03<00:00,  1.92it/s]\n"
          ]
        },
        {
          "output_type": "stream",
          "name": "stdout",
          "text": [
            "Epoh: 17\n",
            "lr: 0.00017843539779274198\n",
            "Average loss: 1.134439\n",
            "Average iou: 0.180975\n",
            "\n"
          ]
        },
        {
          "output_type": "stream",
          "name": "stderr",
          "text": [
            "  0%|          | 0/122 [00:00<?, ?it/s]/usr/local/lib/python3.9/dist-packages/segmentation_models_pytorch/base/modules.py:116: UserWarning: Implicit dimension choice for softmax has been deprecated. Change the call to include dim=X as an argument.\n",
            "  return self.activation(x)\n",
            "100%|██████████| 122/122 [01:04<00:00,  1.88it/s]\n"
          ]
        },
        {
          "output_type": "stream",
          "name": "stdout",
          "text": [
            "Epoh: 18\n",
            "lr: 0.00011621397033204607\n",
            "Average loss: 1.127599\n",
            "Average iou: 0.192104\n",
            "\n"
          ]
        },
        {
          "output_type": "stream",
          "name": "stderr",
          "text": [
            "  0%|          | 0/122 [00:00<?, ?it/s]/usr/local/lib/python3.9/dist-packages/segmentation_models_pytorch/base/modules.py:116: UserWarning: Implicit dimension choice for softmax has been deprecated. Change the call to include dim=X as an argument.\n",
            "  return self.activation(x)\n",
            "100%|██████████| 122/122 [01:02<00:00,  1.96it/s]\n"
          ]
        },
        {
          "output_type": "stream",
          "name": "stdout",
          "text": [
            "Epoh: 19\n",
            "lr: 7.626535479198807e-05\n",
            "Average loss: 1.126262\n",
            "Average iou: 0.196741\n",
            "\n"
          ]
        },
        {
          "output_type": "stream",
          "name": "stderr",
          "text": [
            "  0%|          | 0/122 [00:00<?, ?it/s]/usr/local/lib/python3.9/dist-packages/segmentation_models_pytorch/base/modules.py:116: UserWarning: Implicit dimension choice for softmax has been deprecated. Change the call to include dim=X as an argument.\n",
            "  return self.activation(x)\n",
            "100%|██████████| 122/122 [01:02<00:00,  1.96it/s]\n"
          ]
        },
        {
          "output_type": "stream",
          "name": "stdout",
          "text": [
            "Epoh: 20\n",
            "lr: 0.0006250000000000001\n",
            "Average loss: 1.140199\n",
            "Average iou: 0.174808\n",
            "\n"
          ]
        },
        {
          "output_type": "stream",
          "name": "stderr",
          "text": [
            "\r  0%|          | 0/122 [00:00<?, ?it/s]/usr/local/lib/python3.9/dist-packages/segmentation_models_pytorch/base/modules.py:116: UserWarning: Implicit dimension choice for softmax has been deprecated. Change the call to include dim=X as an argument.\n",
            "  return self.activation(x)\n",
            "100%|██████████| 122/122 [01:06<00:00,  1.84it/s]\n"
          ]
        },
        {
          "output_type": "stream",
          "name": "stdout",
          "text": [
            "Epoh: 21\n",
            "lr: 0.000611234645208012\n",
            "Average loss: 1.146022\n",
            "Average iou: 0.167043\n",
            "\n"
          ]
        },
        {
          "output_type": "stream",
          "name": "stderr",
          "text": [
            "  0%|          | 0/122 [00:00<?, ?it/s]/usr/local/lib/python3.9/dist-packages/segmentation_models_pytorch/base/modules.py:116: UserWarning: Implicit dimension choice for softmax has been deprecated. Change the call to include dim=X as an argument.\n",
            "  return self.activation(x)\n",
            "100%|██████████| 122/122 [01:02<00:00,  1.94it/s]\n"
          ]
        },
        {
          "output_type": "stream",
          "name": "stdout",
          "text": [
            "Epoh: 22\n",
            "lr: 0.0005712860296679541\n",
            "Average loss: 1.143915\n",
            "Average iou: 0.152937\n",
            "\n"
          ]
        },
        {
          "output_type": "stream",
          "name": "stderr",
          "text": [
            "\r  0%|          | 0/122 [00:00<?, ?it/s]/usr/local/lib/python3.9/dist-packages/segmentation_models_pytorch/base/modules.py:116: UserWarning: Implicit dimension choice for softmax has been deprecated. Change the call to include dim=X as an argument.\n",
            "  return self.activation(x)\n",
            "100%|██████████| 122/122 [01:05<00:00,  1.87it/s]\n"
          ]
        },
        {
          "output_type": "stream",
          "name": "stdout",
          "text": [
            "Epoh: 23\n",
            "lr: 0.0005090646022072581\n",
            "Average loss: 1.137955\n",
            "Average iou: 0.172216\n",
            "\n"
          ]
        },
        {
          "output_type": "stream",
          "name": "stderr",
          "text": [
            "  0%|          | 0/122 [00:00<?, ?it/s]/usr/local/lib/python3.9/dist-packages/segmentation_models_pytorch/base/modules.py:116: UserWarning: Implicit dimension choice for softmax has been deprecated. Change the call to include dim=X as an argument.\n",
            "  return self.activation(x)\n",
            "100%|██████████| 122/122 [01:02<00:00,  1.97it/s]\n"
          ]
        },
        {
          "output_type": "stream",
          "name": "stdout",
          "text": [
            "Epoh: 24\n",
            "lr: 0.000430661029667954\n",
            "Average loss: 1.127535\n",
            "Average iou: 0.185200\n",
            "\n"
          ]
        },
        {
          "output_type": "stream",
          "name": "stderr",
          "text": [
            "  0%|          | 0/122 [00:00<?, ?it/s]/usr/local/lib/python3.9/dist-packages/segmentation_models_pytorch/base/modules.py:116: UserWarning: Implicit dimension choice for softmax has been deprecated. Change the call to include dim=X as an argument.\n",
            "  return self.activation(x)\n",
            "100%|██████████| 122/122 [01:02<00:00,  1.96it/s]\n"
          ]
        },
        {
          "output_type": "stream",
          "name": "stdout",
          "text": [
            "Epoh: 25\n",
            "lr: 0.00034375000000000003\n",
            "Average loss: 1.124394\n",
            "Average iou: 0.196339\n",
            "\n"
          ]
        },
        {
          "output_type": "stream",
          "name": "stderr",
          "text": [
            "  0%|          | 0/122 [00:00<?, ?it/s]/usr/local/lib/python3.9/dist-packages/segmentation_models_pytorch/base/modules.py:116: UserWarning: Implicit dimension choice for softmax has been deprecated. Change the call to include dim=X as an argument.\n",
            "  return self.activation(x)\n",
            "100%|██████████| 122/122 [01:05<00:00,  1.85it/s]\n"
          ]
        },
        {
          "output_type": "stream",
          "name": "stdout",
          "text": [
            "Epoh: 26\n",
            "lr: 0.00025683897033204606\n",
            "Average loss: 1.122882\n",
            "Average iou: 0.213058\n",
            "\n"
          ]
        },
        {
          "output_type": "stream",
          "name": "stderr",
          "text": [
            "  0%|          | 0/122 [00:00<?, ?it/s]/usr/local/lib/python3.9/dist-packages/segmentation_models_pytorch/base/modules.py:116: UserWarning: Implicit dimension choice for softmax has been deprecated. Change the call to include dim=X as an argument.\n",
            "  return self.activation(x)\n",
            "100%|██████████| 122/122 [01:03<00:00,  1.93it/s]\n"
          ]
        },
        {
          "output_type": "stream",
          "name": "stdout",
          "text": [
            "Epoh: 27\n",
            "lr: 0.00017843539779274198\n",
            "Average loss: 1.115079\n",
            "Average iou: 0.209453\n",
            "\n"
          ]
        },
        {
          "output_type": "stream",
          "name": "stderr",
          "text": [
            "  0%|          | 0/122 [00:00<?, ?it/s]/usr/local/lib/python3.9/dist-packages/segmentation_models_pytorch/base/modules.py:116: UserWarning: Implicit dimension choice for softmax has been deprecated. Change the call to include dim=X as an argument.\n",
            "  return self.activation(x)\n",
            "100%|██████████| 122/122 [01:02<00:00,  1.95it/s]\n"
          ]
        },
        {
          "output_type": "stream",
          "name": "stdout",
          "text": [
            "Epoh: 28\n",
            "lr: 0.00011621397033204607\n",
            "Average loss: 1.117664\n",
            "Average iou: 0.218610\n",
            "\n"
          ]
        },
        {
          "output_type": "stream",
          "name": "stderr",
          "text": [
            "  0%|          | 0/122 [00:00<?, ?it/s]/usr/local/lib/python3.9/dist-packages/segmentation_models_pytorch/base/modules.py:116: UserWarning: Implicit dimension choice for softmax has been deprecated. Change the call to include dim=X as an argument.\n",
            "  return self.activation(x)\n",
            "100%|██████████| 122/122 [01:04<00:00,  1.89it/s]\n"
          ]
        },
        {
          "output_type": "stream",
          "name": "stdout",
          "text": [
            "Epoh: 29\n",
            "lr: 7.626535479198807e-05\n",
            "Average loss: 1.119104\n",
            "Average iou: 0.222091\n",
            "\n"
          ]
        },
        {
          "output_type": "stream",
          "name": "stderr",
          "text": [
            "  0%|          | 0/122 [00:00<?, ?it/s]/usr/local/lib/python3.9/dist-packages/segmentation_models_pytorch/base/modules.py:116: UserWarning: Implicit dimension choice for softmax has been deprecated. Change the call to include dim=X as an argument.\n",
            "  return self.activation(x)\n",
            "100%|██████████| 122/122 [01:02<00:00,  1.95it/s]\n"
          ]
        },
        {
          "output_type": "stream",
          "name": "stdout",
          "text": [
            "Epoh: 30\n",
            "lr: 0.0006250000000000001\n",
            "Average loss: 1.129204\n",
            "Average iou: 0.206708\n",
            "\n"
          ]
        },
        {
          "output_type": "stream",
          "name": "stderr",
          "text": [
            "\r  0%|          | 0/122 [00:00<?, ?it/s]/usr/local/lib/python3.9/dist-packages/segmentation_models_pytorch/base/modules.py:116: UserWarning: Implicit dimension choice for softmax has been deprecated. Change the call to include dim=X as an argument.\n",
            "  return self.activation(x)\n",
            "100%|██████████| 122/122 [01:03<00:00,  1.92it/s]\n"
          ]
        },
        {
          "output_type": "stream",
          "name": "stdout",
          "text": [
            "Epoh: 31\n",
            "lr: 0.000611234645208012\n",
            "Average loss: 1.136676\n",
            "Average iou: 0.178787\n",
            "\n"
          ]
        },
        {
          "output_type": "stream",
          "name": "stderr",
          "text": [
            "  0%|          | 0/122 [00:00<?, ?it/s]/usr/local/lib/python3.9/dist-packages/segmentation_models_pytorch/base/modules.py:116: UserWarning: Implicit dimension choice for softmax has been deprecated. Change the call to include dim=X as an argument.\n",
            "  return self.activation(x)\n",
            "100%|██████████| 122/122 [01:04<00:00,  1.88it/s]\n"
          ]
        },
        {
          "output_type": "stream",
          "name": "stdout",
          "text": [
            "Epoh: 32\n",
            "lr: 0.0005712860296679541\n",
            "Average loss: 1.131015\n",
            "Average iou: 0.192717\n",
            "\n"
          ]
        },
        {
          "output_type": "stream",
          "name": "stderr",
          "text": [
            "  0%|          | 0/122 [00:00<?, ?it/s]/usr/local/lib/python3.9/dist-packages/segmentation_models_pytorch/base/modules.py:116: UserWarning: Implicit dimension choice for softmax has been deprecated. Change the call to include dim=X as an argument.\n",
            "  return self.activation(x)\n",
            "100%|██████████| 122/122 [01:03<00:00,  1.93it/s]\n"
          ]
        },
        {
          "output_type": "stream",
          "name": "stdout",
          "text": [
            "Epoh: 33\n",
            "lr: 0.0005090646022072581\n",
            "Average loss: 1.124464\n",
            "Average iou: 0.190602\n",
            "\n"
          ]
        },
        {
          "output_type": "stream",
          "name": "stderr",
          "text": [
            "  0%|          | 0/122 [00:00<?, ?it/s]/usr/local/lib/python3.9/dist-packages/segmentation_models_pytorch/base/modules.py:116: UserWarning: Implicit dimension choice for softmax has been deprecated. Change the call to include dim=X as an argument.\n",
            "  return self.activation(x)\n",
            "100%|██████████| 122/122 [01:03<00:00,  1.92it/s]\n"
          ]
        },
        {
          "output_type": "stream",
          "name": "stdout",
          "text": [
            "Epoh: 34\n",
            "lr: 0.000430661029667954\n",
            "Average loss: 1.124718\n",
            "Average iou: 0.213122\n",
            "\n"
          ]
        },
        {
          "output_type": "stream",
          "name": "stderr",
          "text": [
            "  0%|          | 0/122 [00:00<?, ?it/s]/usr/local/lib/python3.9/dist-packages/segmentation_models_pytorch/base/modules.py:116: UserWarning: Implicit dimension choice for softmax has been deprecated. Change the call to include dim=X as an argument.\n",
            "  return self.activation(x)\n",
            "100%|██████████| 122/122 [01:07<00:00,  1.81it/s]\n"
          ]
        },
        {
          "output_type": "stream",
          "name": "stdout",
          "text": [
            "Epoh: 35\n",
            "lr: 0.00034375000000000003\n",
            "Average loss: 1.120504\n",
            "Average iou: 0.210798\n",
            "\n"
          ]
        },
        {
          "output_type": "stream",
          "name": "stderr",
          "text": [
            "  0%|          | 0/122 [00:00<?, ?it/s]/usr/local/lib/python3.9/dist-packages/segmentation_models_pytorch/base/modules.py:116: UserWarning: Implicit dimension choice for softmax has been deprecated. Change the call to include dim=X as an argument.\n",
            "  return self.activation(x)\n",
            "100%|██████████| 122/122 [01:03<00:00,  1.93it/s]\n"
          ]
        },
        {
          "output_type": "stream",
          "name": "stdout",
          "text": [
            "Epoh: 36\n",
            "lr: 0.00025683897033204606\n",
            "Average loss: 1.119421\n",
            "Average iou: 0.221344\n",
            "\n"
          ]
        },
        {
          "output_type": "stream",
          "name": "stderr",
          "text": [
            "  0%|          | 0/122 [00:00<?, ?it/s]/usr/local/lib/python3.9/dist-packages/segmentation_models_pytorch/base/modules.py:116: UserWarning: Implicit dimension choice for softmax has been deprecated. Change the call to include dim=X as an argument.\n",
            "  return self.activation(x)\n",
            "100%|██████████| 122/122 [01:06<00:00,  1.84it/s]\n"
          ]
        },
        {
          "output_type": "stream",
          "name": "stdout",
          "text": [
            "Epoh: 37\n",
            "lr: 0.00017843539779274198\n",
            "Average loss: 1.113847\n",
            "Average iou: 0.220693\n",
            "\n"
          ]
        },
        {
          "output_type": "stream",
          "name": "stderr",
          "text": [
            "  0%|          | 0/122 [00:00<?, ?it/s]/usr/local/lib/python3.9/dist-packages/segmentation_models_pytorch/base/modules.py:116: UserWarning: Implicit dimension choice for softmax has been deprecated. Change the call to include dim=X as an argument.\n",
            "  return self.activation(x)\n",
            "100%|██████████| 122/122 [01:02<00:00,  1.94it/s]\n"
          ]
        },
        {
          "output_type": "stream",
          "name": "stdout",
          "text": [
            "Epoh: 38\n",
            "lr: 0.00011621397033204607\n",
            "Average loss: 1.108861\n",
            "Average iou: 0.250871\n",
            "\n"
          ]
        },
        {
          "output_type": "stream",
          "name": "stderr",
          "text": [
            "  0%|          | 0/122 [00:00<?, ?it/s]/usr/local/lib/python3.9/dist-packages/segmentation_models_pytorch/base/modules.py:116: UserWarning: Implicit dimension choice for softmax has been deprecated. Change the call to include dim=X as an argument.\n",
            "  return self.activation(x)\n",
            "100%|██████████| 122/122 [01:03<00:00,  1.93it/s]\n"
          ]
        },
        {
          "output_type": "stream",
          "name": "stdout",
          "text": [
            "Epoh: 39\n",
            "lr: 7.626535479198807e-05\n",
            "Average loss: 1.109087\n",
            "Average iou: 0.246071\n",
            "\n"
          ]
        },
        {
          "output_type": "stream",
          "name": "stderr",
          "text": [
            "  0%|          | 0/122 [00:00<?, ?it/s]/usr/local/lib/python3.9/dist-packages/segmentation_models_pytorch/base/modules.py:116: UserWarning: Implicit dimension choice for softmax has been deprecated. Change the call to include dim=X as an argument.\n",
            "  return self.activation(x)\n",
            "100%|██████████| 122/122 [01:06<00:00,  1.82it/s]\n"
          ]
        },
        {
          "output_type": "stream",
          "name": "stdout",
          "text": [
            "Epoh: 40\n",
            "lr: 0.0006250000000000001\n",
            "Average loss: 1.107708\n",
            "Average iou: 0.227520\n",
            "\n"
          ]
        },
        {
          "output_type": "stream",
          "name": "stderr",
          "text": [
            "  0%|          | 0/122 [00:00<?, ?it/s]/usr/local/lib/python3.9/dist-packages/segmentation_models_pytorch/base/modules.py:116: UserWarning: Implicit dimension choice for softmax has been deprecated. Change the call to include dim=X as an argument.\n",
            "  return self.activation(x)\n",
            "100%|██████████| 122/122 [01:04<00:00,  1.90it/s]\n"
          ]
        },
        {
          "output_type": "stream",
          "name": "stdout",
          "text": [
            "Epoh: 41\n",
            "lr: 0.000611234645208012\n",
            "Average loss: 1.120525\n",
            "Average iou: 0.200035\n",
            "\n"
          ]
        },
        {
          "output_type": "stream",
          "name": "stderr",
          "text": [
            "  0%|          | 0/122 [00:00<?, ?it/s]/usr/local/lib/python3.9/dist-packages/segmentation_models_pytorch/base/modules.py:116: UserWarning: Implicit dimension choice for softmax has been deprecated. Change the call to include dim=X as an argument.\n",
            "  return self.activation(x)\n",
            "100%|██████████| 122/122 [01:03<00:00,  1.93it/s]\n"
          ]
        },
        {
          "output_type": "stream",
          "name": "stdout",
          "text": [
            "Epoh: 42\n",
            "lr: 0.0005712860296679541\n",
            "Average loss: 1.120705\n",
            "Average iou: 0.198221\n",
            "\n"
          ]
        },
        {
          "output_type": "stream",
          "name": "stderr",
          "text": [
            "  0%|          | 0/122 [00:00<?, ?it/s]/usr/local/lib/python3.9/dist-packages/segmentation_models_pytorch/base/modules.py:116: UserWarning: Implicit dimension choice for softmax has been deprecated. Change the call to include dim=X as an argument.\n",
            "  return self.activation(x)\n",
            "100%|██████████| 122/122 [01:04<00:00,  1.88it/s]\n"
          ]
        },
        {
          "output_type": "stream",
          "name": "stdout",
          "text": [
            "Epoh: 43\n",
            "lr: 0.0005090646022072581\n",
            "Average loss: 1.117414\n",
            "Average iou: 0.198344\n",
            "\n"
          ]
        },
        {
          "output_type": "stream",
          "name": "stderr",
          "text": [
            "\r  0%|          | 0/122 [00:00<?, ?it/s]/usr/local/lib/python3.9/dist-packages/segmentation_models_pytorch/base/modules.py:116: UserWarning: Implicit dimension choice for softmax has been deprecated. Change the call to include dim=X as an argument.\n",
            "  return self.activation(x)\n",
            "100%|██████████| 122/122 [01:04<00:00,  1.91it/s]\n"
          ]
        },
        {
          "output_type": "stream",
          "name": "stdout",
          "text": [
            "Epoh: 44\n",
            "lr: 0.000430661029667954\n",
            "Average loss: 1.110870\n",
            "Average iou: 0.212277\n",
            "\n"
          ]
        },
        {
          "output_type": "stream",
          "name": "stderr",
          "text": [
            "  0%|          | 0/122 [00:00<?, ?it/s]/usr/local/lib/python3.9/dist-packages/segmentation_models_pytorch/base/modules.py:116: UserWarning: Implicit dimension choice for softmax has been deprecated. Change the call to include dim=X as an argument.\n",
            "  return self.activation(x)\n",
            "100%|██████████| 122/122 [01:02<00:00,  1.95it/s]\n"
          ]
        },
        {
          "output_type": "stream",
          "name": "stdout",
          "text": [
            "Epoh: 45\n",
            "lr: 0.00034375000000000003\n",
            "Average loss: 1.106430\n",
            "Average iou: 0.239461\n",
            "\n"
          ]
        },
        {
          "output_type": "stream",
          "name": "stderr",
          "text": [
            "\r  0%|          | 0/122 [00:00<?, ?it/s]/usr/local/lib/python3.9/dist-packages/segmentation_models_pytorch/base/modules.py:116: UserWarning: Implicit dimension choice for softmax has been deprecated. Change the call to include dim=X as an argument.\n",
            "  return self.activation(x)\n",
            "100%|██████████| 122/122 [01:04<00:00,  1.90it/s]\n"
          ]
        },
        {
          "output_type": "stream",
          "name": "stdout",
          "text": [
            "Epoh: 46\n",
            "lr: 0.00025683897033204606\n",
            "Average loss: 1.098926\n",
            "Average iou: 0.247158\n",
            "\n"
          ]
        },
        {
          "output_type": "stream",
          "name": "stderr",
          "text": [
            "\r  0%|          | 0/122 [00:00<?, ?it/s]/usr/local/lib/python3.9/dist-packages/segmentation_models_pytorch/base/modules.py:116: UserWarning: Implicit dimension choice for softmax has been deprecated. Change the call to include dim=X as an argument.\n",
            "  return self.activation(x)\n",
            "100%|██████████| 122/122 [01:01<00:00,  1.99it/s]\n"
          ]
        },
        {
          "output_type": "stream",
          "name": "stdout",
          "text": [
            "Epoh: 47\n",
            "lr: 0.00017843539779274198\n",
            "Average loss: 1.100425\n",
            "Average iou: 0.255179\n",
            "\n"
          ]
        },
        {
          "output_type": "stream",
          "name": "stderr",
          "text": [
            "  0%|          | 0/122 [00:00<?, ?it/s]/usr/local/lib/python3.9/dist-packages/segmentation_models_pytorch/base/modules.py:116: UserWarning: Implicit dimension choice for softmax has been deprecated. Change the call to include dim=X as an argument.\n",
            "  return self.activation(x)\n",
            "100%|██████████| 122/122 [01:02<00:00,  1.96it/s]\n"
          ]
        },
        {
          "output_type": "stream",
          "name": "stdout",
          "text": [
            "Epoh: 48\n",
            "lr: 0.00011621397033204607\n",
            "Average loss: 1.101961\n",
            "Average iou: 0.258225\n",
            "\n"
          ]
        },
        {
          "output_type": "stream",
          "name": "stderr",
          "text": [
            "\r  0%|          | 0/122 [00:00<?, ?it/s]/usr/local/lib/python3.9/dist-packages/segmentation_models_pytorch/base/modules.py:116: UserWarning: Implicit dimension choice for softmax has been deprecated. Change the call to include dim=X as an argument.\n",
            "  return self.activation(x)\n",
            "100%|██████████| 122/122 [01:06<00:00,  1.84it/s]\n"
          ]
        },
        {
          "output_type": "stream",
          "name": "stdout",
          "text": [
            "Epoh: 49\n",
            "lr: 7.626535479198807e-05\n",
            "Average loss: 1.095012\n",
            "Average iou: 0.257179\n",
            "\n"
          ]
        },
        {
          "output_type": "stream",
          "name": "stderr",
          "text": [
            "  0%|          | 0/122 [00:00<?, ?it/s]/usr/local/lib/python3.9/dist-packages/segmentation_models_pytorch/base/modules.py:116: UserWarning: Implicit dimension choice for softmax has been deprecated. Change the call to include dim=X as an argument.\n",
            "  return self.activation(x)\n",
            "100%|██████████| 122/122 [01:01<00:00,  1.98it/s]\n"
          ]
        },
        {
          "output_type": "stream",
          "name": "stdout",
          "text": [
            "Epoh: 50\n",
            "lr: 0.0006250000000000001\n",
            "Average loss: 1.105254\n",
            "Average iou: 0.228234\n",
            "\n"
          ]
        },
        {
          "output_type": "stream",
          "name": "stderr",
          "text": [
            "  0%|          | 0/122 [00:00<?, ?it/s]/usr/local/lib/python3.9/dist-packages/segmentation_models_pytorch/base/modules.py:116: UserWarning: Implicit dimension choice for softmax has been deprecated. Change the call to include dim=X as an argument.\n",
            "  return self.activation(x)\n",
            "100%|██████████| 122/122 [01:03<00:00,  1.93it/s]\n"
          ]
        },
        {
          "output_type": "stream",
          "name": "stdout",
          "text": [
            "Epoh: 51\n",
            "lr: 0.000611234645208012\n",
            "Average loss: 1.112416\n",
            "Average iou: 0.224997\n",
            "\n"
          ]
        },
        {
          "output_type": "stream",
          "name": "stderr",
          "text": [
            "  0%|          | 0/122 [00:00<?, ?it/s]/usr/local/lib/python3.9/dist-packages/segmentation_models_pytorch/base/modules.py:116: UserWarning: Implicit dimension choice for softmax has been deprecated. Change the call to include dim=X as an argument.\n",
            "  return self.activation(x)\n",
            "100%|██████████| 122/122 [01:02<00:00,  1.94it/s]\n"
          ]
        },
        {
          "output_type": "stream",
          "name": "stdout",
          "text": [
            "Epoh: 52\n",
            "lr: 0.0005712860296679541\n",
            "Average loss: 1.111920\n",
            "Average iou: 0.202134\n",
            "\n"
          ]
        },
        {
          "output_type": "stream",
          "name": "stderr",
          "text": [
            "  0%|          | 0/122 [00:00<?, ?it/s]/usr/local/lib/python3.9/dist-packages/segmentation_models_pytorch/base/modules.py:116: UserWarning: Implicit dimension choice for softmax has been deprecated. Change the call to include dim=X as an argument.\n",
            "  return self.activation(x)\n",
            "100%|██████████| 122/122 [01:01<00:00,  1.98it/s]\n"
          ]
        },
        {
          "output_type": "stream",
          "name": "stdout",
          "text": [
            "Epoh: 53\n",
            "lr: 0.0005090646022072581\n",
            "Average loss: 1.106642\n",
            "Average iou: 0.220749\n",
            "\n"
          ]
        },
        {
          "output_type": "stream",
          "name": "stderr",
          "text": [
            "\r  0%|          | 0/122 [00:00<?, ?it/s]/usr/local/lib/python3.9/dist-packages/segmentation_models_pytorch/base/modules.py:116: UserWarning: Implicit dimension choice for softmax has been deprecated. Change the call to include dim=X as an argument.\n",
            "  return self.activation(x)\n",
            "100%|██████████| 122/122 [01:06<00:00,  1.82it/s]\n"
          ]
        },
        {
          "output_type": "stream",
          "name": "stdout",
          "text": [
            "Epoh: 54\n",
            "lr: 0.000430661029667954\n",
            "Average loss: 1.112637\n",
            "Average iou: 0.213468\n",
            "\n"
          ]
        },
        {
          "output_type": "stream",
          "name": "stderr",
          "text": [
            "  0%|          | 0/122 [00:00<?, ?it/s]/usr/local/lib/python3.9/dist-packages/segmentation_models_pytorch/base/modules.py:116: UserWarning: Implicit dimension choice for softmax has been deprecated. Change the call to include dim=X as an argument.\n",
            "  return self.activation(x)\n",
            "100%|██████████| 122/122 [01:02<00:00,  1.96it/s]\n"
          ]
        },
        {
          "output_type": "stream",
          "name": "stdout",
          "text": [
            "Epoh: 55\n",
            "lr: 0.00034375000000000003\n",
            "Average loss: 1.102910\n",
            "Average iou: 0.234329\n",
            "\n"
          ]
        },
        {
          "output_type": "stream",
          "name": "stderr",
          "text": [
            "  0%|          | 0/122 [00:00<?, ?it/s]/usr/local/lib/python3.9/dist-packages/segmentation_models_pytorch/base/modules.py:116: UserWarning: Implicit dimension choice for softmax has been deprecated. Change the call to include dim=X as an argument.\n",
            "  return self.activation(x)\n",
            "100%|██████████| 122/122 [01:01<00:00,  1.97it/s]\n"
          ]
        },
        {
          "output_type": "stream",
          "name": "stdout",
          "text": [
            "Epoh: 56\n",
            "lr: 0.00025683897033204606\n",
            "Average loss: 1.101046\n",
            "Average iou: 0.263369\n",
            "\n"
          ]
        },
        {
          "output_type": "stream",
          "name": "stderr",
          "text": [
            "\r  0%|          | 0/122 [00:00<?, ?it/s]/usr/local/lib/python3.9/dist-packages/segmentation_models_pytorch/base/modules.py:116: UserWarning: Implicit dimension choice for softmax has been deprecated. Change the call to include dim=X as an argument.\n",
            "  return self.activation(x)\n",
            "100%|██████████| 122/122 [01:01<00:00,  1.98it/s]\n"
          ]
        },
        {
          "output_type": "stream",
          "name": "stdout",
          "text": [
            "Epoh: 57\n",
            "lr: 0.00017843539779274198\n",
            "Average loss: 1.095473\n",
            "Average iou: 0.267623\n",
            "\n"
          ]
        },
        {
          "output_type": "stream",
          "name": "stderr",
          "text": [
            "  0%|          | 0/122 [00:00<?, ?it/s]/usr/local/lib/python3.9/dist-packages/segmentation_models_pytorch/base/modules.py:116: UserWarning: Implicit dimension choice for softmax has been deprecated. Change the call to include dim=X as an argument.\n",
            "  return self.activation(x)\n",
            "100%|██████████| 122/122 [01:01<00:00,  1.99it/s]\n"
          ]
        },
        {
          "output_type": "stream",
          "name": "stdout",
          "text": [
            "Epoh: 58\n",
            "lr: 0.00011621397033204607\n",
            "Average loss: 1.096457\n",
            "Average iou: 0.265836\n",
            "\n"
          ]
        },
        {
          "output_type": "stream",
          "name": "stderr",
          "text": [
            "  0%|          | 0/122 [00:00<?, ?it/s]/usr/local/lib/python3.9/dist-packages/segmentation_models_pytorch/base/modules.py:116: UserWarning: Implicit dimension choice for softmax has been deprecated. Change the call to include dim=X as an argument.\n",
            "  return self.activation(x)\n",
            "100%|██████████| 122/122 [01:03<00:00,  1.93it/s]\n"
          ]
        },
        {
          "output_type": "stream",
          "name": "stdout",
          "text": [
            "Epoh: 59\n",
            "lr: 7.626535479198807e-05\n",
            "Average loss: 1.095095\n",
            "Average iou: 0.276240\n",
            "\n"
          ]
        },
        {
          "output_type": "stream",
          "name": "stderr",
          "text": [
            "\r  0%|          | 0/122 [00:00<?, ?it/s]/usr/local/lib/python3.9/dist-packages/segmentation_models_pytorch/base/modules.py:116: UserWarning: Implicit dimension choice for softmax has been deprecated. Change the call to include dim=X as an argument.\n",
            "  return self.activation(x)\n",
            "100%|██████████| 122/122 [01:06<00:00,  1.84it/s]\n"
          ]
        },
        {
          "output_type": "stream",
          "name": "stdout",
          "text": [
            "Epoh: 60\n",
            "lr: 0.0006250000000000001\n",
            "Average loss: 1.102392\n",
            "Average iou: 0.254612\n",
            "\n"
          ]
        },
        {
          "output_type": "stream",
          "name": "stderr",
          "text": [
            "  0%|          | 0/122 [00:00<?, ?it/s]/usr/local/lib/python3.9/dist-packages/segmentation_models_pytorch/base/modules.py:116: UserWarning: Implicit dimension choice for softmax has been deprecated. Change the call to include dim=X as an argument.\n",
            "  return self.activation(x)\n",
            "100%|██████████| 122/122 [01:01<00:00,  1.97it/s]\n"
          ]
        },
        {
          "output_type": "stream",
          "name": "stdout",
          "text": [
            "Epoh: 61\n",
            "lr: 0.000611234645208012\n",
            "Average loss: 1.102921\n",
            "Average iou: 0.227656\n",
            "\n"
          ]
        },
        {
          "output_type": "stream",
          "name": "stderr",
          "text": [
            "  0%|          | 0/122 [00:00<?, ?it/s]/usr/local/lib/python3.9/dist-packages/segmentation_models_pytorch/base/modules.py:116: UserWarning: Implicit dimension choice for softmax has been deprecated. Change the call to include dim=X as an argument.\n",
            "  return self.activation(x)\n",
            "100%|██████████| 122/122 [01:02<00:00,  1.96it/s]\n"
          ]
        },
        {
          "output_type": "stream",
          "name": "stdout",
          "text": [
            "Epoh: 62\n",
            "lr: 0.0005712860296679541\n",
            "Average loss: 1.108909\n",
            "Average iou: 0.212903\n",
            "\n"
          ]
        },
        {
          "output_type": "stream",
          "name": "stderr",
          "text": [
            "  0%|          | 0/122 [00:00<?, ?it/s]/usr/local/lib/python3.9/dist-packages/segmentation_models_pytorch/base/modules.py:116: UserWarning: Implicit dimension choice for softmax has been deprecated. Change the call to include dim=X as an argument.\n",
            "  return self.activation(x)\n",
            "100%|██████████| 122/122 [01:04<00:00,  1.89it/s]\n"
          ]
        },
        {
          "output_type": "stream",
          "name": "stdout",
          "text": [
            "Epoh: 63\n",
            "lr: 0.0005090646022072581\n",
            "Average loss: 1.105412\n",
            "Average iou: 0.234367\n",
            "\n"
          ]
        },
        {
          "output_type": "stream",
          "name": "stderr",
          "text": [
            "\r  0%|          | 0/122 [00:00<?, ?it/s]/usr/local/lib/python3.9/dist-packages/segmentation_models_pytorch/base/modules.py:116: UserWarning: Implicit dimension choice for softmax has been deprecated. Change the call to include dim=X as an argument.\n",
            "  return self.activation(x)\n",
            "100%|██████████| 122/122 [01:03<00:00,  1.93it/s]\n"
          ]
        },
        {
          "output_type": "stream",
          "name": "stdout",
          "text": [
            "Epoh: 64\n",
            "lr: 0.000430661029667954\n",
            "Average loss: 1.101496\n",
            "Average iou: 0.252908\n",
            "\n"
          ]
        },
        {
          "output_type": "stream",
          "name": "stderr",
          "text": [
            "  0%|          | 0/122 [00:00<?, ?it/s]/usr/local/lib/python3.9/dist-packages/segmentation_models_pytorch/base/modules.py:116: UserWarning: Implicit dimension choice for softmax has been deprecated. Change the call to include dim=X as an argument.\n",
            "  return self.activation(x)\n",
            "100%|██████████| 122/122 [01:02<00:00,  1.94it/s]\n"
          ]
        },
        {
          "output_type": "stream",
          "name": "stdout",
          "text": [
            "Epoh: 65\n",
            "lr: 0.00034375000000000003\n",
            "Average loss: 1.094164\n",
            "Average iou: 0.255385\n",
            "\n"
          ]
        },
        {
          "output_type": "stream",
          "name": "stderr",
          "text": [
            "  0%|          | 0/122 [00:00<?, ?it/s]/usr/local/lib/python3.9/dist-packages/segmentation_models_pytorch/base/modules.py:116: UserWarning: Implicit dimension choice for softmax has been deprecated. Change the call to include dim=X as an argument.\n",
            "  return self.activation(x)\n",
            "100%|██████████| 122/122 [01:04<00:00,  1.90it/s]\n"
          ]
        },
        {
          "output_type": "stream",
          "name": "stdout",
          "text": [
            "Epoh: 66\n",
            "lr: 0.00025683897033204606\n",
            "Average loss: 1.095447\n",
            "Average iou: 0.256862\n",
            "\n"
          ]
        },
        {
          "output_type": "stream",
          "name": "stderr",
          "text": [
            "  0%|          | 0/122 [00:00<?, ?it/s]/usr/local/lib/python3.9/dist-packages/segmentation_models_pytorch/base/modules.py:116: UserWarning: Implicit dimension choice for softmax has been deprecated. Change the call to include dim=X as an argument.\n",
            "  return self.activation(x)\n",
            "100%|██████████| 122/122 [01:01<00:00,  1.97it/s]\n"
          ]
        },
        {
          "output_type": "stream",
          "name": "stdout",
          "text": [
            "Epoh: 67\n",
            "lr: 0.00017843539779274198\n",
            "Average loss: 1.093951\n",
            "Average iou: 0.281694\n",
            "\n"
          ]
        },
        {
          "output_type": "stream",
          "name": "stderr",
          "text": [
            "  0%|          | 0/122 [00:00<?, ?it/s]/usr/local/lib/python3.9/dist-packages/segmentation_models_pytorch/base/modules.py:116: UserWarning: Implicit dimension choice for softmax has been deprecated. Change the call to include dim=X as an argument.\n",
            "  return self.activation(x)\n",
            "100%|██████████| 122/122 [01:02<00:00,  1.95it/s]\n"
          ]
        },
        {
          "output_type": "stream",
          "name": "stdout",
          "text": [
            "Epoh: 68\n",
            "lr: 0.00011621397033204607\n",
            "Average loss: 1.089271\n",
            "Average iou: 0.283146\n",
            "\n"
          ]
        },
        {
          "output_type": "stream",
          "name": "stderr",
          "text": [
            "\r  0%|          | 0/122 [00:00<?, ?it/s]/usr/local/lib/python3.9/dist-packages/segmentation_models_pytorch/base/modules.py:116: UserWarning: Implicit dimension choice for softmax has been deprecated. Change the call to include dim=X as an argument.\n",
            "  return self.activation(x)\n",
            "100%|██████████| 122/122 [01:05<00:00,  1.87it/s]\n"
          ]
        },
        {
          "output_type": "stream",
          "name": "stdout",
          "text": [
            "Epoh: 69\n",
            "lr: 7.626535479198807e-05\n",
            "Average loss: 1.091883\n",
            "Average iou: 0.291562\n",
            "\n"
          ]
        },
        {
          "output_type": "stream",
          "name": "stderr",
          "text": [
            "\r  0%|          | 0/122 [00:00<?, ?it/s]/usr/local/lib/python3.9/dist-packages/segmentation_models_pytorch/base/modules.py:116: UserWarning: Implicit dimension choice for softmax has been deprecated. Change the call to include dim=X as an argument.\n",
            "  return self.activation(x)\n",
            "100%|██████████| 122/122 [01:02<00:00,  1.95it/s]\n"
          ]
        },
        {
          "output_type": "stream",
          "name": "stdout",
          "text": [
            "Epoh: 70\n",
            "lr: 0.0006250000000000001\n",
            "Average loss: 1.094082\n",
            "Average iou: 0.253762\n",
            "\n"
          ]
        },
        {
          "output_type": "stream",
          "name": "stderr",
          "text": [
            "  0%|          | 0/122 [00:00<?, ?it/s]/usr/local/lib/python3.9/dist-packages/segmentation_models_pytorch/base/modules.py:116: UserWarning: Implicit dimension choice for softmax has been deprecated. Change the call to include dim=X as an argument.\n",
            "  return self.activation(x)\n",
            "100%|██████████| 122/122 [01:02<00:00,  1.95it/s]\n"
          ]
        },
        {
          "output_type": "stream",
          "name": "stdout",
          "text": [
            "Epoh: 71\n",
            "lr: 0.000611234645208012\n",
            "Average loss: 1.096021\n",
            "Average iou: 0.242172\n",
            "\n"
          ]
        },
        {
          "output_type": "stream",
          "name": "stderr",
          "text": [
            "  0%|          | 0/122 [00:00<?, ?it/s]/usr/local/lib/python3.9/dist-packages/segmentation_models_pytorch/base/modules.py:116: UserWarning: Implicit dimension choice for softmax has been deprecated. Change the call to include dim=X as an argument.\n",
            "  return self.activation(x)\n",
            "100%|██████████| 122/122 [01:03<00:00,  1.93it/s]\n"
          ]
        },
        {
          "output_type": "stream",
          "name": "stdout",
          "text": [
            "Epoh: 72\n",
            "lr: 0.0005712860296679541\n",
            "Average loss: 1.099330\n",
            "Average iou: 0.244094\n",
            "\n"
          ]
        },
        {
          "output_type": "stream",
          "name": "stderr",
          "text": [
            "  0%|          | 0/122 [00:00<?, ?it/s]/usr/local/lib/python3.9/dist-packages/segmentation_models_pytorch/base/modules.py:116: UserWarning: Implicit dimension choice for softmax has been deprecated. Change the call to include dim=X as an argument.\n",
            "  return self.activation(x)\n",
            "100%|██████████| 122/122 [01:02<00:00,  1.95it/s]\n"
          ]
        },
        {
          "output_type": "stream",
          "name": "stdout",
          "text": [
            "Epoh: 73\n",
            "lr: 0.0005090646022072581\n",
            "Average loss: 1.100564\n",
            "Average iou: 0.246726\n",
            "\n"
          ]
        },
        {
          "output_type": "stream",
          "name": "stderr",
          "text": [
            "\r  0%|          | 0/122 [00:00<?, ?it/s]/usr/local/lib/python3.9/dist-packages/segmentation_models_pytorch/base/modules.py:116: UserWarning: Implicit dimension choice for softmax has been deprecated. Change the call to include dim=X as an argument.\n",
            "  return self.activation(x)\n",
            "100%|██████████| 122/122 [01:05<00:00,  1.85it/s]\n"
          ]
        },
        {
          "output_type": "stream",
          "name": "stdout",
          "text": [
            "Epoh: 74\n",
            "lr: 0.000430661029667954\n",
            "Average loss: 1.094825\n",
            "Average iou: 0.255587\n",
            "\n"
          ]
        },
        {
          "output_type": "stream",
          "name": "stderr",
          "text": [
            "  0%|          | 0/122 [00:00<?, ?it/s]/usr/local/lib/python3.9/dist-packages/segmentation_models_pytorch/base/modules.py:116: UserWarning: Implicit dimension choice for softmax has been deprecated. Change the call to include dim=X as an argument.\n",
            "  return self.activation(x)\n",
            "100%|██████████| 122/122 [01:02<00:00,  1.96it/s]\n"
          ]
        },
        {
          "output_type": "stream",
          "name": "stdout",
          "text": [
            "Epoh: 75\n",
            "lr: 0.00034375000000000003\n",
            "Average loss: 1.087977\n",
            "Average iou: 0.264407\n",
            "\n"
          ]
        },
        {
          "output_type": "stream",
          "name": "stderr",
          "text": [
            "\r  0%|          | 0/122 [00:00<?, ?it/s]/usr/local/lib/python3.9/dist-packages/segmentation_models_pytorch/base/modules.py:116: UserWarning: Implicit dimension choice for softmax has been deprecated. Change the call to include dim=X as an argument.\n",
            "  return self.activation(x)\n",
            "100%|██████████| 122/122 [01:01<00:00,  1.98it/s]\n"
          ]
        },
        {
          "output_type": "stream",
          "name": "stdout",
          "text": [
            "Epoh: 76\n",
            "lr: 0.00025683897033204606\n",
            "Average loss: 1.089334\n",
            "Average iou: 0.287317\n",
            "\n"
          ]
        },
        {
          "output_type": "stream",
          "name": "stderr",
          "text": [
            "  0%|          | 0/122 [00:00<?, ?it/s]/usr/local/lib/python3.9/dist-packages/segmentation_models_pytorch/base/modules.py:116: UserWarning: Implicit dimension choice for softmax has been deprecated. Change the call to include dim=X as an argument.\n",
            "  return self.activation(x)\n",
            "100%|██████████| 122/122 [01:04<00:00,  1.91it/s]\n"
          ]
        },
        {
          "output_type": "stream",
          "name": "stdout",
          "text": [
            "Epoh: 77\n",
            "lr: 0.00017843539779274198\n",
            "Average loss: 1.089739\n",
            "Average iou: 0.301208\n",
            "\n"
          ]
        },
        {
          "output_type": "stream",
          "name": "stderr",
          "text": [
            "\r  0%|          | 0/122 [00:00<?, ?it/s]/usr/local/lib/python3.9/dist-packages/segmentation_models_pytorch/base/modules.py:116: UserWarning: Implicit dimension choice for softmax has been deprecated. Change the call to include dim=X as an argument.\n",
            "  return self.activation(x)\n",
            "100%|██████████| 122/122 [01:02<00:00,  1.94it/s]\n"
          ]
        },
        {
          "output_type": "stream",
          "name": "stdout",
          "text": [
            "Epoh: 78\n",
            "lr: 0.00011621397033204607\n",
            "Average loss: 1.087276\n",
            "Average iou: 0.292562\n",
            "\n"
          ]
        },
        {
          "output_type": "stream",
          "name": "stderr",
          "text": [
            "\r  0%|          | 0/122 [00:00<?, ?it/s]/usr/local/lib/python3.9/dist-packages/segmentation_models_pytorch/base/modules.py:116: UserWarning: Implicit dimension choice for softmax has been deprecated. Change the call to include dim=X as an argument.\n",
            "  return self.activation(x)\n",
            "100%|██████████| 122/122 [01:03<00:00,  1.91it/s]\n"
          ]
        },
        {
          "output_type": "stream",
          "name": "stdout",
          "text": [
            "Epoh: 79\n",
            "lr: 7.626535479198807e-05\n",
            "Average loss: 1.088154\n",
            "Average iou: 0.303516\n",
            "\n"
          ]
        },
        {
          "output_type": "stream",
          "name": "stderr",
          "text": [
            "  0%|          | 0/122 [00:00<?, ?it/s]/usr/local/lib/python3.9/dist-packages/segmentation_models_pytorch/base/modules.py:116: UserWarning: Implicit dimension choice for softmax has been deprecated. Change the call to include dim=X as an argument.\n",
            "  return self.activation(x)\n",
            "100%|██████████| 122/122 [01:02<00:00,  1.94it/s]\n"
          ]
        },
        {
          "output_type": "stream",
          "name": "stdout",
          "text": [
            "Epoh: 80\n",
            "lr: 0.0006250000000000001\n",
            "Average loss: 1.094538\n",
            "Average iou: 0.274490\n",
            "\n"
          ]
        },
        {
          "output_type": "stream",
          "name": "stderr",
          "text": [
            "  0%|          | 0/122 [00:00<?, ?it/s]/usr/local/lib/python3.9/dist-packages/segmentation_models_pytorch/base/modules.py:116: UserWarning: Implicit dimension choice for softmax has been deprecated. Change the call to include dim=X as an argument.\n",
            "  return self.activation(x)\n",
            "100%|██████████| 122/122 [01:02<00:00,  1.94it/s]\n"
          ]
        },
        {
          "output_type": "stream",
          "name": "stdout",
          "text": [
            "Epoh: 81\n",
            "lr: 0.000611234645208012\n",
            "Average loss: 1.099359\n",
            "Average iou: 0.251666\n",
            "\n"
          ]
        },
        {
          "output_type": "stream",
          "name": "stderr",
          "text": [
            "  0%|          | 0/122 [00:00<?, ?it/s]/usr/local/lib/python3.9/dist-packages/segmentation_models_pytorch/base/modules.py:116: UserWarning: Implicit dimension choice for softmax has been deprecated. Change the call to include dim=X as an argument.\n",
            "  return self.activation(x)\n",
            "100%|██████████| 122/122 [01:01<00:00,  1.98it/s]\n"
          ]
        },
        {
          "output_type": "stream",
          "name": "stdout",
          "text": [
            "Epoh: 82\n",
            "lr: 0.0005712860296679541\n",
            "Average loss: 1.095334\n",
            "Average iou: 0.253117\n",
            "\n"
          ]
        },
        {
          "output_type": "stream",
          "name": "stderr",
          "text": [
            "\r  0%|          | 0/122 [00:00<?, ?it/s]/usr/local/lib/python3.9/dist-packages/segmentation_models_pytorch/base/modules.py:116: UserWarning: Implicit dimension choice for softmax has been deprecated. Change the call to include dim=X as an argument.\n",
            "  return self.activation(x)\n",
            "100%|██████████| 122/122 [01:02<00:00,  1.95it/s]\n"
          ]
        },
        {
          "output_type": "stream",
          "name": "stdout",
          "text": [
            "Epoh: 83\n",
            "lr: 0.0005090646022072581\n",
            "Average loss: 1.085581\n",
            "Average iou: 0.251047\n",
            "\n"
          ]
        },
        {
          "output_type": "stream",
          "name": "stderr",
          "text": [
            "\r  0%|          | 0/122 [00:00<?, ?it/s]/usr/local/lib/python3.9/dist-packages/segmentation_models_pytorch/base/modules.py:116: UserWarning: Implicit dimension choice for softmax has been deprecated. Change the call to include dim=X as an argument.\n",
            "  return self.activation(x)\n",
            "100%|██████████| 122/122 [01:04<00:00,  1.90it/s]\n"
          ]
        },
        {
          "output_type": "stream",
          "name": "stdout",
          "text": [
            "Epoh: 84\n",
            "lr: 0.000430661029667954\n",
            "Average loss: 1.073451\n",
            "Average iou: 0.273925\n",
            "\n"
          ]
        },
        {
          "output_type": "stream",
          "name": "stderr",
          "text": [
            "  0%|          | 0/122 [00:00<?, ?it/s]/usr/local/lib/python3.9/dist-packages/segmentation_models_pytorch/base/modules.py:116: UserWarning: Implicit dimension choice for softmax has been deprecated. Change the call to include dim=X as an argument.\n",
            "  return self.activation(x)\n",
            "100%|██████████| 122/122 [01:02<00:00,  1.96it/s]\n"
          ]
        },
        {
          "output_type": "stream",
          "name": "stdout",
          "text": [
            "Epoh: 85\n",
            "lr: 0.00034375000000000003\n",
            "Average loss: 1.063464\n",
            "Average iou: 0.283389\n",
            "\n"
          ]
        },
        {
          "output_type": "stream",
          "name": "stderr",
          "text": [
            "  0%|          | 0/122 [00:00<?, ?it/s]/usr/local/lib/python3.9/dist-packages/segmentation_models_pytorch/base/modules.py:116: UserWarning: Implicit dimension choice for softmax has been deprecated. Change the call to include dim=X as an argument.\n",
            "  return self.activation(x)\n",
            "100%|██████████| 122/122 [01:01<00:00,  1.97it/s]\n"
          ]
        },
        {
          "output_type": "stream",
          "name": "stdout",
          "text": [
            "Epoh: 86\n",
            "lr: 0.00025683897033204606\n",
            "Average loss: 1.062721\n",
            "Average iou: 0.294955\n",
            "\n"
          ]
        },
        {
          "output_type": "stream",
          "name": "stderr",
          "text": [
            "  0%|          | 0/122 [00:00<?, ?it/s]/usr/local/lib/python3.9/dist-packages/segmentation_models_pytorch/base/modules.py:116: UserWarning: Implicit dimension choice for softmax has been deprecated. Change the call to include dim=X as an argument.\n",
            "  return self.activation(x)\n",
            "100%|██████████| 122/122 [01:02<00:00,  1.96it/s]\n"
          ]
        },
        {
          "output_type": "stream",
          "name": "stdout",
          "text": [
            "Epoh: 87\n",
            "lr: 0.00017843539779274198\n",
            "Average loss: 1.061791\n",
            "Average iou: 0.300960\n",
            "\n"
          ]
        },
        {
          "output_type": "stream",
          "name": "stderr",
          "text": [
            "  0%|          | 0/122 [00:00<?, ?it/s]/usr/local/lib/python3.9/dist-packages/segmentation_models_pytorch/base/modules.py:116: UserWarning: Implicit dimension choice for softmax has been deprecated. Change the call to include dim=X as an argument.\n",
            "  return self.activation(x)\n",
            "100%|██████████| 122/122 [01:02<00:00,  1.96it/s]\n"
          ]
        },
        {
          "output_type": "stream",
          "name": "stdout",
          "text": [
            "Epoh: 88\n",
            "lr: 0.00011621397033204607\n",
            "Average loss: 1.060850\n",
            "Average iou: 0.312892\n",
            "\n"
          ]
        },
        {
          "output_type": "stream",
          "name": "stderr",
          "text": [
            "\r  0%|          | 0/122 [00:00<?, ?it/s]/usr/local/lib/python3.9/dist-packages/segmentation_models_pytorch/base/modules.py:116: UserWarning: Implicit dimension choice for softmax has been deprecated. Change the call to include dim=X as an argument.\n",
            "  return self.activation(x)\n",
            "100%|██████████| 122/122 [01:02<00:00,  1.96it/s]\n"
          ]
        },
        {
          "output_type": "stream",
          "name": "stdout",
          "text": [
            "Epoh: 89\n",
            "lr: 7.626535479198807e-05\n",
            "Average loss: 1.057894\n",
            "Average iou: 0.321869\n",
            "\n"
          ]
        },
        {
          "output_type": "stream",
          "name": "stderr",
          "text": [
            "\r  0%|          | 0/122 [00:00<?, ?it/s]/usr/local/lib/python3.9/dist-packages/segmentation_models_pytorch/base/modules.py:116: UserWarning: Implicit dimension choice for softmax has been deprecated. Change the call to include dim=X as an argument.\n",
            "  return self.activation(x)\n",
            "100%|██████████| 122/122 [01:04<00:00,  1.90it/s]\n"
          ]
        },
        {
          "output_type": "stream",
          "name": "stdout",
          "text": [
            "Epoh: 90\n",
            "lr: 0.0006250000000000001\n",
            "Average loss: 1.061373\n",
            "Average iou: 0.291219\n",
            "\n"
          ]
        },
        {
          "output_type": "stream",
          "name": "stderr",
          "text": [
            "  0%|          | 0/122 [00:00<?, ?it/s]/usr/local/lib/python3.9/dist-packages/segmentation_models_pytorch/base/modules.py:116: UserWarning: Implicit dimension choice for softmax has been deprecated. Change the call to include dim=X as an argument.\n",
            "  return self.activation(x)\n",
            "100%|██████████| 122/122 [01:02<00:00,  1.96it/s]\n"
          ]
        },
        {
          "output_type": "stream",
          "name": "stdout",
          "text": [
            "Epoh: 91\n",
            "lr: 0.000611234645208012\n",
            "Average loss: 1.064811\n",
            "Average iou: 0.280414\n",
            "\n"
          ]
        },
        {
          "output_type": "stream",
          "name": "stderr",
          "text": [
            "  0%|          | 0/122 [00:00<?, ?it/s]/usr/local/lib/python3.9/dist-packages/segmentation_models_pytorch/base/modules.py:116: UserWarning: Implicit dimension choice for softmax has been deprecated. Change the call to include dim=X as an argument.\n",
            "  return self.activation(x)\n",
            " 35%|███▌      | 43/122 [00:22<00:40,  1.95it/s]\n"
          ]
        },
        {
          "output_type": "error",
          "ename": "KeyboardInterrupt",
          "evalue": "ignored",
          "traceback": [
            "\u001b[0;31m---------------------------------------------------------------------------\u001b[0m",
            "\u001b[0;31mKeyboardInterrupt\u001b[0m                         Traceback (most recent call last)",
            "\u001b[0;32m<ipython-input-25-5325f7ab6b2f>\u001b[0m in \u001b[0;36m<cell line: 13>\u001b[0;34m()\u001b[0m\n\u001b[1;32m     11\u001b[0m \u001b[0;31m#scheduler = torch.optim.lr_scheduler.StepLR(optimizer=optimizer, step_size=5, gamma=0.8)\u001b[0m\u001b[0;34m\u001b[0m\u001b[0;34m\u001b[0m\u001b[0m\n\u001b[1;32m     12\u001b[0m \u001b[0;31m#scheduler = None\u001b[0m\u001b[0;34m\u001b[0m\u001b[0;34m\u001b[0m\u001b[0m\n\u001b[0;32m---> 13\u001b[0;31m \u001b[0mloss_history\u001b[0m\u001b[0;34m,\u001b[0m \u001b[0miou_history\u001b[0m\u001b[0;34m,\u001b[0m \u001b[0mdf\u001b[0m \u001b[0;34m=\u001b[0m \u001b[0mtrain_model\u001b[0m\u001b[0;34m(\u001b[0m\u001b[0mmodel\u001b[0m\u001b[0;34m,\u001b[0m \u001b[0mtrain_loader\u001b[0m\u001b[0;34m,\u001b[0m \u001b[0mDloss\u001b[0m\u001b[0;34m,\u001b[0m \u001b[0mCEloss\u001b[0m\u001b[0;34m,\u001b[0m \u001b[0moptimizer\u001b[0m\u001b[0;34m,\u001b[0m \u001b[0mscheduler\u001b[0m\u001b[0;34m,\u001b[0m \u001b[0mnum_epochs\u001b[0m\u001b[0;34m)\u001b[0m\u001b[0;34m\u001b[0m\u001b[0;34m\u001b[0m\u001b[0m\n\u001b[0m\u001b[1;32m     14\u001b[0m \u001b[0;34m\u001b[0m\u001b[0m\n\u001b[1;32m     15\u001b[0m \u001b[0;31m#min etta\u001b[0m\u001b[0;34m\u001b[0m\u001b[0;34m\u001b[0m\u001b[0m\n",
            "\u001b[0;32m<ipython-input-21-f810cba48c64>\u001b[0m in \u001b[0;36mtrain_model\u001b[0;34m(model, train_loader, loss1, loss2, optimizer, scheduler, num_epochs)\u001b[0m\n\u001b[1;32m     28\u001b[0m \u001b[0;34m\u001b[0m\u001b[0m\n\u001b[1;32m     29\u001b[0m             \u001b[0mloss\u001b[0m\u001b[0;34m.\u001b[0m\u001b[0mbackward\u001b[0m\u001b[0;34m(\u001b[0m\u001b[0;34m)\u001b[0m\u001b[0;34m\u001b[0m\u001b[0;34m\u001b[0m\u001b[0m\n\u001b[0;32m---> 30\u001b[0;31m             \u001b[0moptimizer\u001b[0m\u001b[0;34m.\u001b[0m\u001b[0mstep\u001b[0m\u001b[0;34m(\u001b[0m\u001b[0;34m)\u001b[0m\u001b[0;34m\u001b[0m\u001b[0;34m\u001b[0m\u001b[0m\n\u001b[0m\u001b[1;32m     31\u001b[0m \u001b[0;34m\u001b[0m\u001b[0m\n\u001b[1;32m     32\u001b[0m             \u001b[0mloss_accum\u001b[0m \u001b[0;34m+=\u001b[0m \u001b[0mloss\u001b[0m\u001b[0;34m\u001b[0m\u001b[0;34m\u001b[0m\u001b[0m\n",
            "\u001b[0;32m/usr/local/lib/python3.9/dist-packages/torch/optim/lr_scheduler.py\u001b[0m in \u001b[0;36mwrapper\u001b[0;34m(*args, **kwargs)\u001b[0m\n\u001b[1;32m     66\u001b[0m                 \u001b[0minstance\u001b[0m\u001b[0;34m.\u001b[0m\u001b[0m_step_count\u001b[0m \u001b[0;34m+=\u001b[0m \u001b[0;36m1\u001b[0m\u001b[0;34m\u001b[0m\u001b[0;34m\u001b[0m\u001b[0m\n\u001b[1;32m     67\u001b[0m                 \u001b[0mwrapped\u001b[0m \u001b[0;34m=\u001b[0m \u001b[0mfunc\u001b[0m\u001b[0;34m.\u001b[0m\u001b[0m__get__\u001b[0m\u001b[0;34m(\u001b[0m\u001b[0minstance\u001b[0m\u001b[0;34m,\u001b[0m \u001b[0mcls\u001b[0m\u001b[0;34m)\u001b[0m\u001b[0;34m\u001b[0m\u001b[0;34m\u001b[0m\u001b[0m\n\u001b[0;32m---> 68\u001b[0;31m                 \u001b[0;32mreturn\u001b[0m \u001b[0mwrapped\u001b[0m\u001b[0;34m(\u001b[0m\u001b[0;34m*\u001b[0m\u001b[0margs\u001b[0m\u001b[0;34m,\u001b[0m \u001b[0;34m**\u001b[0m\u001b[0mkwargs\u001b[0m\u001b[0;34m)\u001b[0m\u001b[0;34m\u001b[0m\u001b[0;34m\u001b[0m\u001b[0m\n\u001b[0m\u001b[1;32m     69\u001b[0m \u001b[0;34m\u001b[0m\u001b[0m\n\u001b[1;32m     70\u001b[0m             \u001b[0;31m# Note that the returned function here is no longer a bound method,\u001b[0m\u001b[0;34m\u001b[0m\u001b[0;34m\u001b[0m\u001b[0m\n",
            "\u001b[0;32m/usr/local/lib/python3.9/dist-packages/torch/optim/optimizer.py\u001b[0m in \u001b[0;36mwrapper\u001b[0;34m(*args, **kwargs)\u001b[0m\n\u001b[1;32m    138\u001b[0m                 \u001b[0mprofile_name\u001b[0m \u001b[0;34m=\u001b[0m \u001b[0;34m\"Optimizer.step#{}.step\"\u001b[0m\u001b[0;34m.\u001b[0m\u001b[0mformat\u001b[0m\u001b[0;34m(\u001b[0m\u001b[0mobj\u001b[0m\u001b[0;34m.\u001b[0m\u001b[0m__class__\u001b[0m\u001b[0;34m.\u001b[0m\u001b[0m__name__\u001b[0m\u001b[0;34m)\u001b[0m\u001b[0;34m\u001b[0m\u001b[0;34m\u001b[0m\u001b[0m\n\u001b[1;32m    139\u001b[0m                 \u001b[0;32mwith\u001b[0m \u001b[0mtorch\u001b[0m\u001b[0;34m.\u001b[0m\u001b[0mautograd\u001b[0m\u001b[0;34m.\u001b[0m\u001b[0mprofiler\u001b[0m\u001b[0;34m.\u001b[0m\u001b[0mrecord_function\u001b[0m\u001b[0;34m(\u001b[0m\u001b[0mprofile_name\u001b[0m\u001b[0;34m)\u001b[0m\u001b[0;34m:\u001b[0m\u001b[0;34m\u001b[0m\u001b[0;34m\u001b[0m\u001b[0m\n\u001b[0;32m--> 140\u001b[0;31m                     \u001b[0mout\u001b[0m \u001b[0;34m=\u001b[0m \u001b[0mfunc\u001b[0m\u001b[0;34m(\u001b[0m\u001b[0;34m*\u001b[0m\u001b[0margs\u001b[0m\u001b[0;34m,\u001b[0m \u001b[0;34m**\u001b[0m\u001b[0mkwargs\u001b[0m\u001b[0;34m)\u001b[0m\u001b[0;34m\u001b[0m\u001b[0;34m\u001b[0m\u001b[0m\n\u001b[0m\u001b[1;32m    141\u001b[0m                     \u001b[0mobj\u001b[0m\u001b[0;34m.\u001b[0m\u001b[0m_optimizer_step_code\u001b[0m\u001b[0;34m(\u001b[0m\u001b[0;34m)\u001b[0m\u001b[0;34m\u001b[0m\u001b[0;34m\u001b[0m\u001b[0m\n\u001b[1;32m    142\u001b[0m                     \u001b[0;32mreturn\u001b[0m \u001b[0mout\u001b[0m\u001b[0;34m\u001b[0m\u001b[0;34m\u001b[0m\u001b[0m\n",
            "\u001b[0;32m/usr/local/lib/python3.9/dist-packages/torch/optim/optimizer.py\u001b[0m in \u001b[0;36m_use_grad\u001b[0;34m(self, *args, **kwargs)\u001b[0m\n\u001b[1;32m     21\u001b[0m         \u001b[0;32mtry\u001b[0m\u001b[0;34m:\u001b[0m\u001b[0;34m\u001b[0m\u001b[0;34m\u001b[0m\u001b[0m\n\u001b[1;32m     22\u001b[0m             \u001b[0mtorch\u001b[0m\u001b[0;34m.\u001b[0m\u001b[0mset_grad_enabled\u001b[0m\u001b[0;34m(\u001b[0m\u001b[0mself\u001b[0m\u001b[0;34m.\u001b[0m\u001b[0mdefaults\u001b[0m\u001b[0;34m[\u001b[0m\u001b[0;34m'differentiable'\u001b[0m\u001b[0;34m]\u001b[0m\u001b[0;34m)\u001b[0m\u001b[0;34m\u001b[0m\u001b[0;34m\u001b[0m\u001b[0m\n\u001b[0;32m---> 23\u001b[0;31m             \u001b[0mret\u001b[0m \u001b[0;34m=\u001b[0m \u001b[0mfunc\u001b[0m\u001b[0;34m(\u001b[0m\u001b[0mself\u001b[0m\u001b[0;34m,\u001b[0m \u001b[0;34m*\u001b[0m\u001b[0margs\u001b[0m\u001b[0;34m,\u001b[0m \u001b[0;34m**\u001b[0m\u001b[0mkwargs\u001b[0m\u001b[0;34m)\u001b[0m\u001b[0;34m\u001b[0m\u001b[0;34m\u001b[0m\u001b[0m\n\u001b[0m\u001b[1;32m     24\u001b[0m         \u001b[0;32mfinally\u001b[0m\u001b[0;34m:\u001b[0m\u001b[0;34m\u001b[0m\u001b[0;34m\u001b[0m\u001b[0m\n\u001b[1;32m     25\u001b[0m             \u001b[0mtorch\u001b[0m\u001b[0;34m.\u001b[0m\u001b[0mset_grad_enabled\u001b[0m\u001b[0;34m(\u001b[0m\u001b[0mprev_grad\u001b[0m\u001b[0;34m)\u001b[0m\u001b[0;34m\u001b[0m\u001b[0;34m\u001b[0m\u001b[0m\n",
            "\u001b[0;32m/usr/local/lib/python3.9/dist-packages/torch/optim/adam.py\u001b[0m in \u001b[0;36mstep\u001b[0;34m(self, closure, grad_scaler)\u001b[0m\n\u001b[1;32m    232\u001b[0m                     \u001b[0mstate_steps\u001b[0m\u001b[0;34m.\u001b[0m\u001b[0mappend\u001b[0m\u001b[0;34m(\u001b[0m\u001b[0mstate\u001b[0m\u001b[0;34m[\u001b[0m\u001b[0;34m'step'\u001b[0m\u001b[0;34m]\u001b[0m\u001b[0;34m)\u001b[0m\u001b[0;34m\u001b[0m\u001b[0;34m\u001b[0m\u001b[0m\n\u001b[1;32m    233\u001b[0m \u001b[0;34m\u001b[0m\u001b[0m\n\u001b[0;32m--> 234\u001b[0;31m             adam(params_with_grad,\n\u001b[0m\u001b[1;32m    235\u001b[0m                  \u001b[0mgrads\u001b[0m\u001b[0;34m,\u001b[0m\u001b[0;34m\u001b[0m\u001b[0;34m\u001b[0m\u001b[0m\n\u001b[1;32m    236\u001b[0m                  \u001b[0mexp_avgs\u001b[0m\u001b[0;34m,\u001b[0m\u001b[0;34m\u001b[0m\u001b[0;34m\u001b[0m\u001b[0m\n",
            "\u001b[0;32m/usr/local/lib/python3.9/dist-packages/torch/optim/adam.py\u001b[0m in \u001b[0;36madam\u001b[0;34m(params, grads, exp_avgs, exp_avg_sqs, max_exp_avg_sqs, state_steps, foreach, capturable, differentiable, fused, grad_scale, found_inf, amsgrad, beta1, beta2, lr, weight_decay, eps, maximize)\u001b[0m\n\u001b[1;32m    298\u001b[0m         \u001b[0mfunc\u001b[0m \u001b[0;34m=\u001b[0m \u001b[0m_single_tensor_adam\u001b[0m\u001b[0;34m\u001b[0m\u001b[0;34m\u001b[0m\u001b[0m\n\u001b[1;32m    299\u001b[0m \u001b[0;34m\u001b[0m\u001b[0m\n\u001b[0;32m--> 300\u001b[0;31m     func(params,\n\u001b[0m\u001b[1;32m    301\u001b[0m          \u001b[0mgrads\u001b[0m\u001b[0;34m,\u001b[0m\u001b[0;34m\u001b[0m\u001b[0;34m\u001b[0m\u001b[0m\n\u001b[1;32m    302\u001b[0m          \u001b[0mexp_avgs\u001b[0m\u001b[0;34m,\u001b[0m\u001b[0;34m\u001b[0m\u001b[0;34m\u001b[0m\u001b[0m\n",
            "\u001b[0;32m/usr/local/lib/python3.9/dist-packages/torch/optim/adam.py\u001b[0m in \u001b[0;36m_single_tensor_adam\u001b[0;34m(params, grads, exp_avgs, exp_avg_sqs, max_exp_avg_sqs, state_steps, grad_scale, found_inf, amsgrad, beta1, beta2, lr, weight_decay, eps, maximize, capturable, differentiable)\u001b[0m\n\u001b[1;32m    349\u001b[0m \u001b[0;34m\u001b[0m\u001b[0m\n\u001b[1;32m    350\u001b[0m         \u001b[0;31m# update step\u001b[0m\u001b[0;34m\u001b[0m\u001b[0;34m\u001b[0m\u001b[0m\n\u001b[0;32m--> 351\u001b[0;31m         \u001b[0mstep_t\u001b[0m \u001b[0;34m+=\u001b[0m \u001b[0;36m1\u001b[0m\u001b[0;34m\u001b[0m\u001b[0;34m\u001b[0m\u001b[0m\n\u001b[0m\u001b[1;32m    352\u001b[0m \u001b[0;34m\u001b[0m\u001b[0m\n\u001b[1;32m    353\u001b[0m         \u001b[0;32mif\u001b[0m \u001b[0mweight_decay\u001b[0m \u001b[0;34m!=\u001b[0m \u001b[0;36m0\u001b[0m\u001b[0;34m:\u001b[0m\u001b[0;34m\u001b[0m\u001b[0;34m\u001b[0m\u001b[0m\n",
            "\u001b[0;31mKeyboardInterrupt\u001b[0m: "
          ]
        }
      ],
      "source": [
        "model = model.to(device)\n",
        "parameters = model.parameters()\n",
        "\n",
        "Dloss = smp.losses.DiceLoss(mode='multilabel', from_logits=False)\n",
        "CEloss = torch.nn.CrossEntropyLoss()\n",
        "\n",
        "optimizer = torch.optim.Adam(parameters, lr=0.000625)\n",
        "num_epochs = 130\n",
        "scheduler = torch.optim.lr_scheduler.CosineAnnealingWarmRestarts(optimizer=optimizer, T_0 = 10, eta_min=0.0000625)\n",
        "#scheduler = torch.optim.lr_scheduler.CosineAnnealingLR(optimizer=optimizer, T_max=15, eta_min=0.0000625)\n",
        "#scheduler = torch.optim.lr_scheduler.StepLR(optimizer=optimizer, step_size=5, gamma=0.8)\n",
        "#scheduler = None\n",
        "loss_history, iou_history, df = train_model(model, train_loader, Dloss, CEloss, optimizer, scheduler, num_epochs)\n",
        "\n",
        "#min etta\n"
      ]
    },
    {
      "cell_type": "code",
      "execution_count": null,
      "metadata": {
        "id": "qfM-hNFJuAT7"
      },
      "outputs": [],
      "source": [
        "df"
      ]
    },
    {
      "cell_type": "code",
      "execution_count": null,
      "metadata": {
        "id": "GQRJU2UOuyWP"
      },
      "outputs": [],
      "source": [
        "df.to_csv(\"/content/content/MyDrive/CosineAnnealingLR.csv\", index=False)"
      ]
    },
    {
      "cell_type": "code",
      "execution_count": null,
      "metadata": {
        "id": "bveL0ksanM6F"
      },
      "outputs": [],
      "source": []
    },
    {
      "cell_type": "code",
      "execution_count": null,
      "metadata": {
        "id": "vvu9DQMEuBkW"
      },
      "outputs": [],
      "source": [
        "plt.plot(np.arange(0, num_epochs), np.array(loss_history))\n",
        "plt.title('loss')\n",
        "plt.show()\n",
        "\n",
        "for cls in VOC_CLASSES:\n",
        "  plt.plot(np.arange(0, num_epochs), np.array(iou_history[cls]))\n",
        "  plt.title(cls)\n",
        "  plt.show()\n"
      ]
    },
    {
      "cell_type": "code",
      "execution_count": null,
      "metadata": {
        "id": "Y9MThJRSXQXB"
      },
      "outputs": [],
      "source": []
    },
    {
      "cell_type": "code",
      "execution_count": null,
      "metadata": {
        "colab": {
          "base_uri": "https://localhost:8080/"
        },
        "id": "_C-zWGaFXhd8",
        "outputId": "a340a0e5-23a7-46ba-dccb-3ec1abed5aa3"
      },
      "outputs": [
        {
          "name": "stdout",
          "output_type": "stream",
          "text": [
            "0.4995307918895281\n"
          ]
        }
      ],
      "source": [
        "d = {'background': 0.9143902937896916, 'aeroplane': 0.5900697390499868, 'bicycle': 0.17467998426848202, 'bird': 0.5717718278089267, 'boat': 0.5660091694706763, 'bottle': 0.29275987471671816, 'bus': 0.561876617372036, 'car': 0.4870526874528348, 'cat': 0.5734384903813353, 'chair': 0.2803908920752893, 'cow': 0.5710069142855131, 'diningtable': 0.549999515441331, 'dog': 0.5062069438543975, 'horse': 0.472665530133557, 'motorbike': 0.44126948416233064, 'person': 0.4441989294451768, 'potted plant': 0.2771284450786282, 'sheep': 0.5606630342220192, 'sofa': 0.4532090984284878, 'train': 0.6405635722478231, 'tv/monitor': 0.5607955859948511}\n",
        "ave = 0\n",
        "for key in d.keys():\n",
        "  ave += d[key]\n",
        "print(ave/21)"
      ]
    },
    {
      "cell_type": "code",
      "execution_count": null,
      "metadata": {
        "id": "6rjNo85tXhgr"
      },
      "outputs": [],
      "source": []
    },
    {
      "cell_type": "code",
      "execution_count": null,
      "metadata": {
        "colab": {
          "base_uri": "https://localhost:8080/",
          "height": 634
        },
        "id": "MZFhH_30n4XE",
        "outputId": "78a8ab21-c2c6-4e31-c81a-48b856c13229"
      },
      "outputs": [
        {
          "output_type": "stream",
          "name": "stdout",
          "text": [
            "[('background', 0.8553271872369259), ('boat', 0.771858228980322), ('car', 0.5583224115334207)]\n"
          ]
        },
        {
          "output_type": "execute_result",
          "data": {
            "text/plain": [
              "<matplotlib.image.AxesImage at 0x7fd5135c0fd0>"
            ]
          },
          "metadata": {},
          "execution_count": 42
        },
        {
          "output_type": "display_data",
          "data": {
            "text/plain": [
              "<Figure size 432x288 with 1 Axes>"
            ],
            "image/png": "[encoded data removed]"
          },
          "metadata": {
            "needs_background": "light"
          }
        },
        {
          "output_type": "display_data",
          "data": {
            "text/plain": [
              "<Figure size 504x504 with 1 Axes>"
            ],
            "image/png": "[encoded data removed]"
          },
          "metadata": {
            "needs_background": "light"
          }
        },
        {
          "output_type": "display_data",
          "data": {
            "text/plain": [
              "<Figure size 504x504 with 1 Axes>"
            ],
            "image/png": "[encoded data removed]"
          },
          "metadata": {
            "needs_background": "light"
          }
        }
      ],
      "source": [
        "import matplotlib.pyplot as plt\n",
        "%matplotlib inline\n",
        "\n",
        "model.eval()\n",
        "\n",
        "im, mask = voc_train[202]\n",
        "\n",
        "#mask = mask.to(device)\n",
        "\n",
        "u = torch.unique(mask)\n",
        "plt.figure()\n",
        "plt.imshow(im.permute(1, 2, 0))\n",
        "\n",
        "#im = im.to(device)\n",
        "\n",
        "im = im.view(1, 3, 256, 256)\n",
        "x = model(im.float())\n",
        "\n",
        "\n",
        "\n",
        "indices = []\n",
        "for i in range(num_classes):\n",
        "  if torch.max(mask[i]) == 1:\n",
        "    indices.append(i)\n",
        "\n",
        "\n",
        "\n",
        "\n",
        "m = iou(x, mask)\n",
        "available_m = []\n",
        "for i in indices:\n",
        "  available_m.append((VOC_CLASSES[i], m[i].item()))\n",
        "\n",
        "print(available_m)\n",
        "\n",
        "targ = []\n",
        "pred = []\n",
        "for i in range(mask.size(0)):\n",
        "  if i==0 or torch.max(mask[i]!=0):\n",
        "    targ.append(mask[i])\n",
        "    pred.append(x[0, i])\n",
        "\n",
        "targ = torch.cat(targ, dim=1)\n",
        "pred = torch.cat(pred, dim=1)\n",
        "fsize = (7, 7)\n",
        "plt.figure(figsize=fsize)\n",
        "plt.imshow(targ.detach().cpu().numpy())\n",
        "plt.figure(figsize=fsize)\n",
        "plt.imshow(pred.detach().cpu().numpy())\n"
      ]
    },
    {
      "cell_type": "code",
      "execution_count": null,
      "metadata": {
        "id": "XghEes21yeFI"
      },
      "outputs": [],
      "source": [
        "im, mask = voc_train[101]\n",
        "\n",
        "#mask = mask.to(device)\n",
        "\n",
        "u = torch.unique(mask)\n",
        "plt.figure()\n",
        "plt.imshow(im.permute(1, 2, 0))\n",
        "\n",
        "\n",
        "targ = []\n",
        "for i in range(mask.size(0)):\n",
        "  if i==0 or torch.max(mask[i]!=0):\n",
        "    targ.append(mask[i])\n",
        "targ = torch.cat(targ, dim=1)\n",
        "fsize = (7, 7)\n",
        "plt.figure(figsize=fsize)\n",
        "plt.imshow(targ.detach().cpu().numpy())\n",
        "\n",
        "#im = im.to(device)\n",
        "#im = im.view(1, 3, 256, 256)\n",
        "#x = model(im.float())"
      ]
    },
    {
      "cell_type": "code",
      "execution_count": null,
      "metadata": {
        "id": "hVhI9aOe0UUl"
      },
      "outputs": [],
      "source": [
        "df_None = pd.read_csv('/content/content/MyDrive/df_None.csv')\n",
        "#display(df_None)"
      ]
    },
    {
      "cell_type": "code",
      "execution_count": null,
      "metadata": {
        "id": "zNESsAFxRPzU"
      },
      "outputs": [],
      "source": [
        "df_StepLR = pd.read_csv('/content/content/MyDrive/df_StepLR.csv')\n",
        "#display(df_StepLR)"
      ]
    },
    {
      "cell_type": "code",
      "execution_count": null,
      "metadata": {
        "id": "Xjcx2ZjCRP_y"
      },
      "outputs": [],
      "source": [
        "df_CALR = pd.read_csv('/content/content/MyDrive/df_CALR.csv')"
      ]
    },
    {
      "cell_type": "code",
      "source": [
        "df_CAWR = pd.read_csv('/content/content/MyDrive/df_CAWR.csv')"
      ],
      "metadata": {
        "id": "Kzyw6LnNnUm8"
      },
      "execution_count": null,
      "outputs": []
    },
    {
      "cell_type": "code",
      "execution_count": null,
      "metadata": {
        "colab": {
          "base_uri": "https://localhost:8080/",
          "height": 447
        },
        "id": "QfYUQ1Ko1gg0",
        "outputId": "62e40516-b300-4969-ba98-2913e191c62f"
      },
      "outputs": [
        {
          "output_type": "execute_result",
          "data": {
            "text/plain": [
              "<Axes: >"
            ]
          },
          "metadata": {},
          "execution_count": 52
        },
        {
          "output_type": "display_data",
          "data": {
            "text/plain": [
              "<Figure size 640x480 with 1 Axes>"
            ],
            "image/png": "[encoded data removed]"
          },
          "metadata": {}
        }
      ],
      "source": [
        "key = 'lr'\n",
        "df_None[key].plot(label = 'None', legend = True)\n",
        "df_StepLR[key].plot(label = 'StepLR', legend = True)\n",
        "df_CALR[key].plot(label = 'CALR', legend = True)\n",
        "df_CAWR[key].plot(label = 'CAWR', legend = True)"
      ]
    },
    {
      "cell_type": "code",
      "execution_count": null,
      "metadata": {
        "id": "JQXEXXo71w-m",
        "colab": {
          "base_uri": "https://localhost:8080/"
        },
        "outputId": "876014d9-96c7-48e1-8ff7-d07c44395a84"
      },
      "outputs": [
        {
          "output_type": "execute_result",
          "data": {
            "text/plain": [
              "Index(['lr', 'loss', 'ave_iou', 'background', 'aeroplane', 'bicycle', 'bird',\n",
              "       'boat', 'bottle', 'bus', 'car', 'cat', 'chair', 'cow', 'diningtable',\n",
              "       'dog', 'horse', 'motorbike', 'person', 'potted plant', 'sheep', 'sofa',\n",
              "       'train', 'tv/monitor'],\n",
              "      dtype='object')"
            ]
          },
          "metadata": {},
          "execution_count": 36
        }
      ],
      "source": [
        "df_None.columns"
      ]
    },
    {
      "cell_type": "code",
      "source": [
        "(df_CAWR['lr']*2000).plot(label = 'lr', legend = True)\n",
        "df_CAWR['loss'].plot(label = 'loss', legend = True)"
      ],
      "metadata": {
        "colab": {
          "base_uri": "https://localhost:8080/",
          "height": 447
        },
        "id": "QHotUBGar7px",
        "outputId": "c13efc56-3876-4b5f-ece8-38d8730541a7"
      },
      "execution_count": null,
      "outputs": [
        {
          "output_type": "execute_result",
          "data": {
            "text/plain": [
              "<Axes: >"
            ]
          },
          "metadata": {},
          "execution_count": 59
        },
        {
          "output_type": "display_data",
          "data": {
            "text/plain": [
              "<Figure size 640x480 with 1 Axes>"
            ],
            "image/png": "[encoded data removed]"
          },
          "metadata": {}
        }
      ]
    },
    {
      "cell_type": "code",
      "source": [
        "df_CAWR['lr']"
      ],
      "metadata": {
        "id": "MZyGQsQP-TMI",
        "colab": {
          "base_uri": "https://localhost:8080/"
        },
        "outputId": "c3b60c42-3fca-46f7-8e4e-7556212c2784"
      },
      "execution_count": null,
      "outputs": [
        {
          "output_type": "execute_result",
          "data": {
            "text/plain": [
              "0     0.000625\n",
              "1     0.000611\n",
              "2     0.000571\n",
              "3     0.000509\n",
              "4     0.000431\n",
              "        ...   \n",
              "87    0.000178\n",
              "88    0.000116\n",
              "89    0.000076\n",
              "90    0.000625\n",
              "91    0.000611\n",
              "Name: lr, Length: 92, dtype: float64"
            ]
          },
          "metadata": {},
          "execution_count": 45
        }
      ]
    },
    {
      "cell_type": "code",
      "source": [
        "def val(model, val_loader):\n",
        "    iou_history = defaultdict(list)\n",
        "    model.eval()\n",
        "    ave_iou_per_ep = defaultdict(list)\n",
        "    for (x, y) in tqdm(val_loader):\n",
        "        x = x.float()\n",
        "        y = y.float()\n",
        "        prediction = model(x)\n",
        "        for (key, score) in zip(VOC_CLASSES, iou(prediction, y)):\n",
        "            ave_iou_per_ep[key].append(score)\n",
        "    ave_iou = 0\n",
        "    ave_iou_per_class = []\n",
        "    for key in ave_iou_per_ep:\n",
        "      tmp = torch.nanmean(torch.tensor(ave_iou_per_ep[key], dtype=float)).item()\n",
        "      ave_iou_per_class.append(tmp)\n",
        "      ave_iou += tmp\n",
        "      iou_history[key].append(tmp)\n",
        "    ave_iou /= num_classes\n",
        "    print(\"Average iou: %f\" % (ave_iou))\n",
        "    print()\n",
        "\n",
        "    #print(\"Average IoU of all epochs:\", ave_iou)\n",
        "    return iou_history"
      ],
      "metadata": {
        "id": "4U4wmqvksYJ_"
      },
      "execution_count": null,
      "outputs": []
    },
    {
      "cell_type": "code",
      "source": [
        "iou_history = val(model, val_loader)"
      ],
      "metadata": {
        "colab": {
          "base_uri": "https://localhost:8080/"
        },
        "id": "m5MBups0jiJk",
        "outputId": "9440ed96-f501-4e58-9587-469e13c4b877"
      },
      "execution_count": null,
      "outputs": [
        {
          "output_type": "stream",
          "name": "stderr",
          "text": [
            "\r  0%|          | 0/120 [00:00<?, ?it/s]/usr/local/lib/python3.10/dist-packages/segmentation_models_pytorch/base/modules.py:116: UserWarning: Implicit dimension choice for softmax has been deprecated. Change the call to include dim=X as an argument.\n",
            "  return self.activation(x)\n",
            "100%|██████████| 120/120 [06:05<00:00,  3.05s/it]"
          ]
        },
        {
          "output_type": "stream",
          "name": "stdout",
          "text": [
            "Average iou: 0.303831\n",
            "\n"
          ]
        },
        {
          "output_type": "stream",
          "name": "stderr",
          "text": [
            "\n"
          ]
        }
      ]
    },
    {
      "cell_type": "code",
      "source": [
        "iou_history"
      ],
      "metadata": {
        "colab": {
          "base_uri": "https://localhost:8080/"
        },
        "id": "iU6Nl8DzlVK5",
        "outputId": "a532c3d5-1521-46e0-c9ef-5cc22f697693"
      },
      "execution_count": null,
      "outputs": [
        {
          "output_type": "execute_result",
          "data": {
            "text/plain": [
              "defaultdict(list,\n",
              "            {'background': [0.8715230166912079],\n",
              "             'aeroplane': [0.5310773165293143],\n",
              "             'bicycle': [0.1428356701460191],\n",
              "             'bird': [0.32020883167889425],\n",
              "             'boat': [0.2843934684889774],\n",
              "             'bottle': [0.1594215607477559],\n",
              "             'bus': [0.4337492776356395],\n",
              "             'car': [0.29055970826363925],\n",
              "             'cat': [0.3643815552825298],\n",
              "             'chair': [0.05991571208273637],\n",
              "             'cow': [0.24893857090722157],\n",
              "             'diningtable': [0.18640907995633027],\n",
              "             'dog': [0.2605267653980424],\n",
              "             'horse': [0.2763360150454987],\n",
              "             'motorbike': [0.25006636407366994],\n",
              "             'person': [0.3860857306669156],\n",
              "             'potted plant': [0.11465894770143288],\n",
              "             'sheep': [0.31146735162179495],\n",
              "             'sofa': [0.19881767181826657],\n",
              "             'train': [0.34838197752833366],\n",
              "             'tv/monitor': [0.3406865264118557]})"
            ]
          },
          "metadata": {},
          "execution_count": 25
        }
      ]
    },
    {
      "cell_type": "code",
      "source": [
        "iou_history_train = val(model, train_loader)"
      ],
      "metadata": {
        "colab": {
          "base_uri": "https://localhost:8080/"
        },
        "id": "7-CFHBZalftp",
        "outputId": "0de7716a-6eaf-4610-8a26-11c9218071d9"
      },
      "execution_count": null,
      "outputs": [
        {
          "output_type": "stream",
          "name": "stderr",
          "text": [
            "\r  0%|          | 0/122 [00:00<?, ?it/s]/usr/local/lib/python3.10/dist-packages/segmentation_models_pytorch/base/modules.py:116: UserWarning: Implicit dimension choice for softmax has been deprecated. Change the call to include dim=X as an argument.\n",
            "  return self.activation(x)\n",
            "100%|██████████| 122/122 [06:09<00:00,  3.02s/it]"
          ]
        },
        {
          "output_type": "stream",
          "name": "stdout",
          "text": [
            "Average iou: 0.592134\n",
            "\n"
          ]
        },
        {
          "output_type": "stream",
          "name": "stderr",
          "text": [
            "\n"
          ]
        }
      ]
    },
    {
      "cell_type": "code",
      "source": [
        "iou_history_train"
      ],
      "metadata": {
        "id": "G4-QJzQznGIQ",
        "outputId": "6db50590-2e8a-421a-f3d2-889ab8b198d0",
        "colab": {
          "base_uri": "https://localhost:8080/"
        }
      },
      "execution_count": null,
      "outputs": [
        {
          "output_type": "execute_result",
          "data": {
            "text/plain": [
              "defaultdict(list,\n",
              "            {'background': [0.9115948452324164],\n",
              "             'aeroplane': [0.7056924198100816],\n",
              "             'bicycle': [0.25906956818566396],\n",
              "             'bird': [0.6518381871283054],\n",
              "             'boat': [0.681926091275518],\n",
              "             'bottle': [0.36694404595930663],\n",
              "             'bus': [0.7352294289148771],\n",
              "             'car': [0.5946183354977299],\n",
              "             'cat': [0.68094934589333],\n",
              "             'chair': [0.35577747370432883],\n",
              "             'cow': [0.5397935077763986],\n",
              "             'diningtable': [0.6092754939328069],\n",
              "             'dog': [0.5431317252417406],\n",
              "             'horse': [0.5547591072972864],\n",
              "             'motorbike': [0.5809272738064036],\n",
              "             'person': [0.5131820880609458],\n",
              "             'potted plant': [0.34853666072542017],\n",
              "             'sheep': [0.7621793403393693],\n",
              "             'sofa': [0.5854162716617187],\n",
              "             'train': [0.7793768186009291],\n",
              "             'tv/monitor': [0.674590711410229]})"
            ]
          },
          "metadata": {},
          "execution_count": 27
        }
      ]
    },
    {
      "cell_type": "code",
      "source": [],
      "metadata": {
        "id": "Idt6jwOVnG_6"
      },
      "execution_count": null,
      "outputs": []
    }
  ],
  "metadata": {
    "colab": {
      "provenance": []
    },
    "gpuClass": "standard",
    "kernelspec": {
      "display_name": "Python 3",
      "name": "python3"
    },
    "language_info": {
      "name": "python"
    }
  },
  "nbformat": 4,
  "nbformat_minor": 0
}